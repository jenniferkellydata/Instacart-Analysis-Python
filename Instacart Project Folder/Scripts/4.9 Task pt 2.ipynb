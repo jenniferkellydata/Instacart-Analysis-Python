{
 "cells": [
  {
   "cell_type": "markdown",
   "id": "16f5e9ff",
   "metadata": {},
   "source": [
    "# step 1\n",
    "\n",
    "Create a new notebook, import the necessary analysis and visualization libraries, then import your most up-to-date project data (i.e., the data set with your new customer data from the first part of this task)."
   ]
  },
  {
   "cell_type": "code",
   "execution_count": 2,
   "id": "0f683e16",
   "metadata": {},
   "outputs": [],
   "source": [
    "#import libraries\n",
    "\n",
    "import pandas as pd\n",
    "import numpy as np\n",
    "import os\n",
    "import matplotlib.pyplot as plt\n",
    "import seaborn as sns\n",
    "import scipy"
   ]
  },
  {
   "cell_type": "code",
   "execution_count": 3,
   "id": "67317b52",
   "metadata": {},
   "outputs": [
    {
     "ename": "FileNotFoundError",
     "evalue": "[Errno 2] No such file or directory: '/Users/alisoncoolidge/Desktop/092022 Instacart Basket Analysis/02 Data/Prepared Data/orders_products_customers.pkl'",
     "output_type": "error",
     "traceback": [
      "\u001b[0;31m---------------------------------------------------------------------------\u001b[0m",
      "\u001b[0;31mFileNotFoundError\u001b[0m                         Traceback (most recent call last)",
      "Input \u001b[0;32mIn [3]\u001b[0m, in \u001b[0;36m<cell line: 5>\u001b[0;34m()\u001b[0m\n\u001b[1;32m      1\u001b[0m \u001b[38;5;66;03m# import dataset\u001b[39;00m\n\u001b[1;32m      3\u001b[0m path \u001b[38;5;241m=\u001b[39m \u001b[38;5;124mr\u001b[39m\u001b[38;5;124m'\u001b[39m\u001b[38;5;124m/Users/alisoncoolidge/Desktop/092022 Instacart Basket Analysis\u001b[39m\u001b[38;5;124m'\u001b[39m\n\u001b[0;32m----> 5\u001b[0m df_ord_prod_cust \u001b[38;5;241m=\u001b[39m \u001b[43mpd\u001b[49m\u001b[38;5;241;43m.\u001b[39;49m\u001b[43mread_pickle\u001b[49m\u001b[43m(\u001b[49m\u001b[43mos\u001b[49m\u001b[38;5;241;43m.\u001b[39;49m\u001b[43mpath\u001b[49m\u001b[38;5;241;43m.\u001b[39;49m\u001b[43mjoin\u001b[49m\u001b[43m(\u001b[49m\u001b[43mpath\u001b[49m\u001b[43m,\u001b[49m\u001b[43m \u001b[49m\u001b[38;5;124;43m'\u001b[39;49m\u001b[38;5;124;43m02 Data\u001b[39;49m\u001b[38;5;124;43m'\u001b[39;49m\u001b[43m,\u001b[49m\u001b[43m \u001b[49m\u001b[38;5;124;43m'\u001b[39;49m\u001b[38;5;124;43mPrepared Data\u001b[39;49m\u001b[38;5;124;43m'\u001b[39;49m\u001b[43m,\u001b[49m\u001b[43m \u001b[49m\u001b[38;5;124;43m'\u001b[39;49m\u001b[38;5;124;43morders_products_customers.pkl\u001b[39;49m\u001b[38;5;124;43m'\u001b[39;49m\u001b[43m)\u001b[49m\u001b[43m)\u001b[49m\n",
      "File \u001b[0;32m~/opt/anaconda3/lib/python3.9/site-packages/pandas/io/pickle.py:187\u001b[0m, in \u001b[0;36mread_pickle\u001b[0;34m(filepath_or_buffer, compression, storage_options)\u001b[0m\n\u001b[1;32m    124\u001b[0m \u001b[38;5;124;03m\"\"\"\u001b[39;00m\n\u001b[1;32m    125\u001b[0m \u001b[38;5;124;03mLoad pickled pandas object (or any object) from file.\u001b[39;00m\n\u001b[1;32m    126\u001b[0m \n\u001b[0;32m   (...)\u001b[0m\n\u001b[1;32m    184\u001b[0m \u001b[38;5;124;03m4    4    9\u001b[39;00m\n\u001b[1;32m    185\u001b[0m \u001b[38;5;124;03m\"\"\"\u001b[39;00m  \u001b[38;5;66;03m# noqa: E501\u001b[39;00m\n\u001b[1;32m    186\u001b[0m excs_to_catch \u001b[38;5;241m=\u001b[39m (\u001b[38;5;167;01mAttributeError\u001b[39;00m, \u001b[38;5;167;01mImportError\u001b[39;00m, \u001b[38;5;167;01mModuleNotFoundError\u001b[39;00m, \u001b[38;5;167;01mTypeError\u001b[39;00m)\n\u001b[0;32m--> 187\u001b[0m \u001b[38;5;28;01mwith\u001b[39;00m \u001b[43mget_handle\u001b[49m\u001b[43m(\u001b[49m\n\u001b[1;32m    188\u001b[0m \u001b[43m    \u001b[49m\u001b[43mfilepath_or_buffer\u001b[49m\u001b[43m,\u001b[49m\n\u001b[1;32m    189\u001b[0m \u001b[43m    \u001b[49m\u001b[38;5;124;43m\"\u001b[39;49m\u001b[38;5;124;43mrb\u001b[39;49m\u001b[38;5;124;43m\"\u001b[39;49m\u001b[43m,\u001b[49m\n\u001b[1;32m    190\u001b[0m \u001b[43m    \u001b[49m\u001b[43mcompression\u001b[49m\u001b[38;5;241;43m=\u001b[39;49m\u001b[43mcompression\u001b[49m\u001b[43m,\u001b[49m\n\u001b[1;32m    191\u001b[0m \u001b[43m    \u001b[49m\u001b[43mis_text\u001b[49m\u001b[38;5;241;43m=\u001b[39;49m\u001b[38;5;28;43;01mFalse\u001b[39;49;00m\u001b[43m,\u001b[49m\n\u001b[1;32m    192\u001b[0m \u001b[43m    \u001b[49m\u001b[43mstorage_options\u001b[49m\u001b[38;5;241;43m=\u001b[39;49m\u001b[43mstorage_options\u001b[49m\u001b[43m,\u001b[49m\n\u001b[1;32m    193\u001b[0m \u001b[43m\u001b[49m\u001b[43m)\u001b[49m \u001b[38;5;28;01mas\u001b[39;00m handles:\n\u001b[1;32m    194\u001b[0m \n\u001b[1;32m    195\u001b[0m     \u001b[38;5;66;03m# 1) try standard library Pickle\u001b[39;00m\n\u001b[1;32m    196\u001b[0m     \u001b[38;5;66;03m# 2) try pickle_compat (older pandas version) to handle subclass changes\u001b[39;00m\n\u001b[1;32m    197\u001b[0m     \u001b[38;5;66;03m# 3) try pickle_compat with latin-1 encoding upon a UnicodeDecodeError\u001b[39;00m\n\u001b[1;32m    199\u001b[0m     \u001b[38;5;28;01mtry\u001b[39;00m:\n\u001b[1;32m    200\u001b[0m         \u001b[38;5;66;03m# TypeError for Cython complaints about object.__new__ vs Tick.__new__\u001b[39;00m\n\u001b[1;32m    201\u001b[0m         \u001b[38;5;28;01mtry\u001b[39;00m:\n",
      "File \u001b[0;32m~/opt/anaconda3/lib/python3.9/site-packages/pandas/io/common.py:798\u001b[0m, in \u001b[0;36mget_handle\u001b[0;34m(path_or_buf, mode, encoding, compression, memory_map, is_text, errors, storage_options)\u001b[0m\n\u001b[1;32m    789\u001b[0m         handle \u001b[38;5;241m=\u001b[39m \u001b[38;5;28mopen\u001b[39m(\n\u001b[1;32m    790\u001b[0m             handle,\n\u001b[1;32m    791\u001b[0m             ioargs\u001b[38;5;241m.\u001b[39mmode,\n\u001b[0;32m   (...)\u001b[0m\n\u001b[1;32m    794\u001b[0m             newline\u001b[38;5;241m=\u001b[39m\u001b[38;5;124m\"\u001b[39m\u001b[38;5;124m\"\u001b[39m,\n\u001b[1;32m    795\u001b[0m         )\n\u001b[1;32m    796\u001b[0m     \u001b[38;5;28;01melse\u001b[39;00m:\n\u001b[1;32m    797\u001b[0m         \u001b[38;5;66;03m# Binary mode\u001b[39;00m\n\u001b[0;32m--> 798\u001b[0m         handle \u001b[38;5;241m=\u001b[39m \u001b[38;5;28;43mopen\u001b[39;49m\u001b[43m(\u001b[49m\u001b[43mhandle\u001b[49m\u001b[43m,\u001b[49m\u001b[43m \u001b[49m\u001b[43mioargs\u001b[49m\u001b[38;5;241;43m.\u001b[39;49m\u001b[43mmode\u001b[49m\u001b[43m)\u001b[49m\n\u001b[1;32m    799\u001b[0m     handles\u001b[38;5;241m.\u001b[39mappend(handle)\n\u001b[1;32m    801\u001b[0m \u001b[38;5;66;03m# Convert BytesIO or file objects passed with an encoding\u001b[39;00m\n",
      "\u001b[0;31mFileNotFoundError\u001b[0m: [Errno 2] No such file or directory: '/Users/alisoncoolidge/Desktop/092022 Instacart Basket Analysis/02 Data/Prepared Data/orders_products_customers.pkl'"
     ]
    }
   ],
   "source": [
    "# import dataset\n",
    "\n",
    "path = r'/Users/alisoncoolidge/Desktop/092022 Instacart Basket Analysis'\n",
    "\n",
    "df_ord_prod_cust = pd.read_pickle(os.path.join(path, '02 Data', 'Prepared Data', 'orders_products_customers.pkl'))"
   ]
  },
  {
   "cell_type": "code",
   "execution_count": null,
   "id": "ac3857ad",
   "metadata": {},
   "outputs": [],
   "source": [
    "df_ord_prod_cust.head()"
   ]
  },
  {
   "cell_type": "code",
   "execution_count": null,
   "id": "0552e573",
   "metadata": {},
   "outputs": [],
   "source": [
    "df_ord_prod_cust.tail()"
   ]
  },
  {
   "cell_type": "code",
   "execution_count": null,
   "id": "dac8e836",
   "metadata": {},
   "outputs": [],
   "source": [
    "df_ord_prod_cust.shape"
   ]
  },
  {
   "cell_type": "code",
   "execution_count": null,
   "id": "6618710d",
   "metadata": {},
   "outputs": [],
   "source": [
    "df_ord_prod_cust.info()"
   ]
  },
  {
   "cell_type": "code",
   "execution_count": null,
   "id": "48c3f5b2",
   "metadata": {},
   "outputs": [],
   "source": [
    "df_ord_prod_cust.describe()"
   ]
  },
  {
   "cell_type": "markdown",
   "id": "f5ab5d89",
   "metadata": {},
   "source": [
    "# step 2\n",
    "\n",
    "If you haven’t done so already, follow the instructions in the Exercise to create a bar chart, a histogram, a scatterplot, and a line chart, using a sample subset for the line chart."
   ]
  },
  {
   "cell_type": "code",
   "execution_count": null,
   "id": "69080c71",
   "metadata": {},
   "outputs": [],
   "source": [
    "# BAR CHART - order_day_of_week\n",
    "\n",
    "bar1 = df_ord_prod_cust['order_day_of_week'].value_counts().plot.bar()"
   ]
  },
  {
   "cell_type": "code",
   "execution_count": null,
   "id": "d83a1624",
   "metadata": {},
   "outputs": [],
   "source": [
    "# BAR CHART 2 - loyalty_flag\n",
    "\n",
    "bar2 = df_ord_prod_cust['loyalty_flag'].value_counts().plot.bar(color = ['aqua', 'green', 'blue'])"
   ]
  },
  {
   "cell_type": "code",
   "execution_count": null,
   "id": "6202bab4",
   "metadata": {},
   "outputs": [],
   "source": [
    "# HISTOGRAM 1 - prices\n",
    "\n",
    "histo1 = df_ord_prod_cust['prices'].plot.hist(bins = 25)"
   ]
  },
  {
   "cell_type": "code",
   "execution_count": null,
   "id": "d37ea6c0",
   "metadata": {},
   "outputs": [],
   "source": [
    "# HISTOGRAM 2 - income\n",
    "\n",
    "histo2 = df_ord_prod_cust['income'].plot.hist(bins = 5)"
   ]
  },
  {
   "cell_type": "code",
   "execution_count": null,
   "id": "f73a0dae",
   "metadata": {},
   "outputs": [],
   "source": [
    "# investigating incomes \n",
    "\n",
    "df_ord_prod_cust['income'].min()"
   ]
  },
  {
   "cell_type": "code",
   "execution_count": null,
   "id": "c804aa66",
   "metadata": {},
   "outputs": [],
   "source": [
    "df_ord_prod_cust['income'].max()"
   ]
  },
  {
   "cell_type": "code",
   "execution_count": null,
   "id": "209addda",
   "metadata": {},
   "outputs": [],
   "source": [
    "df_ord_prod_cust['income'].mean( )"
   ]
  },
  {
   "cell_type": "code",
   "execution_count": null,
   "id": "5261f532",
   "metadata": {},
   "outputs": [],
   "source": [
    "df_ord_prod_cust['income'].median()"
   ]
  },
  {
   "cell_type": "code",
   "execution_count": null,
   "id": "5e6c394b",
   "metadata": {},
   "outputs": [],
   "source": [
    "# SCATTERPLOT 1 - income and age relationship\n",
    "\n",
    "scatter1 = sns.scatterplot(x = 'income', y = 'age',data = df_ord_prod_cust)"
   ]
  },
  {
   "cell_type": "code",
   "execution_count": null,
   "id": "c00a74b6",
   "metadata": {},
   "outputs": [],
   "source": [
    "# SCATTERPLOT 2 - income and max order relationship\n",
    "\n",
    "scatter2 = sns.scatterplot(x = 'income', y = 'max_order',data = df_ord_prod_cust)"
   ]
  },
  {
   "cell_type": "code",
   "execution_count": null,
   "id": "d814e198",
   "metadata": {},
   "outputs": [],
   "source": [
    "# LINE CHART WITH DATA SAMPLE\n",
    "\n",
    "# first creating sample\n",
    "\n",
    "np.random.seed(4)\n",
    "dev = np.random.rand(len(df_ord_prod_cust)) <= 0.7"
   ]
  },
  {
   "cell_type": "code",
   "execution_count": null,
   "id": "0066ee03",
   "metadata": {},
   "outputs": [],
   "source": [
    "dev"
   ]
  },
  {
   "cell_type": "code",
   "execution_count": null,
   "id": "6459c669",
   "metadata": {},
   "outputs": [],
   "source": [
    "# splitting the list into big and small df's\n",
    "\n",
    "big = df_ord_prod_cust[dev]"
   ]
  },
  {
   "cell_type": "code",
   "execution_count": null,
   "id": "052e1dfd",
   "metadata": {},
   "outputs": [],
   "source": [
    "small = df_ord_prod_cust[~dev]"
   ]
  },
  {
   "cell_type": "code",
   "execution_count": null,
   "id": "921b758e",
   "metadata": {},
   "outputs": [],
   "source": [
    "# checking the split\n",
    "\n",
    "len(df_ord_prod_cust)"
   ]
  },
  {
   "cell_type": "code",
   "execution_count": null,
   "id": "cc839d33",
   "metadata": {},
   "outputs": [],
   "source": [
    "len(big) + len(small)"
   ]
  },
  {
   "cell_type": "code",
   "execution_count": null,
   "id": "dab596e7",
   "metadata": {},
   "outputs": [],
   "source": [
    "# creating a smaller subset\n",
    "\n",
    "df_line = small[['order_day_of_week','prices']]"
   ]
  },
  {
   "cell_type": "code",
   "execution_count": null,
   "id": "006cfea1",
   "metadata": {},
   "outputs": [],
   "source": [
    "df_line.shape"
   ]
  },
  {
   "cell_type": "code",
   "execution_count": null,
   "id": "2567a758",
   "metadata": {},
   "outputs": [],
   "source": [
    "# creating line chart\n",
    "\n",
    "line = sns.lineplot(data = df_line, x = 'order_day_of_week',y = 'prices')"
   ]
  },
  {
   "cell_type": "markdown",
   "id": "72137aff",
   "metadata": {},
   "source": [
    "# step 3\n",
    "\n",
    "You need to provide the Instacart senior stakeholders with descriptive findings about sales. Create a histogram of the “order_hour_of_day” column.\n",
    "In a markdown cell beneath your histogram, describe what the histogram demonstrates."
   ]
  },
  {
   "cell_type": "code",
   "execution_count": null,
   "id": "7c310a36",
   "metadata": {},
   "outputs": [],
   "source": [
    "# creating histogram with 'order_hour_of_day'\n",
    "\n",
    "histo3 = df_ord_prod_cust['order_hour_of_day'].plot.hist(bins = 24)"
   ]
  },
  {
   "cell_type": "markdown",
   "id": "aed41eff",
   "metadata": {},
   "source": [
    "The histogram above shows that orders are mostly concentrated during the hours of the late morning (10am) to early afternoon (3pm) and taper off towards the evening. Barely anyone places orders between midnight and 6am. "
   ]
  },
  {
   "cell_type": "markdown",
   "id": "4bd3cf52",
   "metadata": {},
   "source": [
    "# step 4\n",
    "\n",
    "The marketing team is curious about the distribution of orders among customers in terms of loyalty. Create a bar chart from the “loyalty_flag” column. \n",
    "\n",
    "(NOTE - had actually done this above out of curiosity! Here it is again)"
   ]
  },
  {
   "cell_type": "code",
   "execution_count": null,
   "id": "ef6a381d",
   "metadata": {},
   "outputs": [],
   "source": [
    "bar2 = df_ord_prod_cust['loyalty_flag'].value_counts().plot.bar(color = ['aqua', 'green', 'blue'])"
   ]
  },
  {
   "cell_type": "markdown",
   "id": "c817542e",
   "metadata": {},
   "source": [
    "# step 5\n",
    "\n",
    "Check whether there’s a difference in expenditure (the “prices” column) depending on the hour of the day. (Hint: To check this, you need to use an accurate sample for your line chart!)"
   ]
  },
  {
   "cell_type": "code",
   "execution_count": null,
   "id": "f4cddc7a",
   "metadata": {},
   "outputs": [],
   "source": [
    "# creating line chart, samples already created above\n",
    "\n",
    "df_line2 = small[['order_hour_of_day','prices']]"
   ]
  },
  {
   "cell_type": "code",
   "execution_count": null,
   "id": "25a4de2d",
   "metadata": {},
   "outputs": [],
   "source": [
    "line2 = sns.lineplot(data = df_line2, x = 'order_hour_of_day',y = 'prices')"
   ]
  },
  {
   "cell_type": "markdown",
   "id": "90fd92df",
   "metadata": {},
   "source": [
    "# step 6\n",
    "\n",
    "Now that you have information about customers, you need to conduct some exploratory analysis of customer demographics to inform the targeted marketing campaigns. First, determine whether there’s a connection between age and family situation by creating a line chart exploring the connections between age and number of dependents:\n",
    "In a markdown cell beneath your line chart, describe what the line chart shows."
   ]
  },
  {
   "cell_type": "code",
   "execution_count": null,
   "id": "0e328c0e",
   "metadata": {},
   "outputs": [],
   "source": [
    "# creating a smaller dataframe for faster processing \n",
    "\n",
    "df_line3 = df_ord_prod_cust[['age', 'dependants']]"
   ]
  },
  {
   "cell_type": "code",
   "execution_count": null,
   "id": "3d1347ad",
   "metadata": {},
   "outputs": [],
   "source": [
    "df_line3.shape"
   ]
  },
  {
   "cell_type": "code",
   "execution_count": null,
   "id": "a633c2d9",
   "metadata": {},
   "outputs": [],
   "source": [
    "# creating line chart\n",
    "\n",
    "line3 = sns.lineplot(data = df_line3, x = 'age',y = 'dependants')"
   ]
  },
  {
   "cell_type": "markdown",
   "id": "b8671b95",
   "metadata": {},
   "source": [
    "The line chart above shows that there is NOT a relationship between a customer's age and number of dependents. "
   ]
  },
  {
   "cell_type": "markdown",
   "id": "1df9d4a4",
   "metadata": {},
   "source": [
    "# step 7\n",
    "\n",
    "You’ll also need to explore whether there’s a connection between age and spending power (income). To visualize this relationship, create a scatterplot using the sns.scatterplot() function.\n",
    "In a markdown cell beneath your scatterplot, describe what the scatterplot shows.\n",
    "\n",
    "(NOTE - also made this one out of curiosity above! Here it is again)"
   ]
  },
  {
   "cell_type": "code",
   "execution_count": null,
   "id": "0fa2970e",
   "metadata": {},
   "outputs": [],
   "source": [
    "scatter1 = sns.scatterplot(x = 'income', y = 'age',data = df_ord_prod_cust)"
   ]
  },
  {
   "cell_type": "markdown",
   "id": "8fea6c3f",
   "metadata": {},
   "source": [
    "The scatterplot above shows that income is correlated with age, though most customers are closer to the mean income of 99437.73. Note median and mean incomes below. "
   ]
  },
  {
   "cell_type": "code",
   "execution_count": null,
   "id": "665aa0d2",
   "metadata": {},
   "outputs": [],
   "source": [
    "df_ord_prod_cust['income'].median()"
   ]
  },
  {
   "cell_type": "code",
   "execution_count": null,
   "id": "27fabc8d",
   "metadata": {},
   "outputs": [],
   "source": [
    "df_ord_prod_cust['income'].mean()"
   ]
  },
  {
   "cell_type": "markdown",
   "id": "f7f0d6d5",
   "metadata": {},
   "source": [
    "# step 8\n",
    "\n",
    "Export your visualizations as “.png” files in your relevant project folder."
   ]
  },
  {
   "cell_type": "code",
   "execution_count": null,
   "id": "57b58d55",
   "metadata": {},
   "outputs": [],
   "source": [
    "# exporting bar charts"
   ]
  },
  {
   "cell_type": "code",
   "execution_count": null,
   "id": "73218800",
   "metadata": {},
   "outputs": [],
   "source": [
    "bar1.figure.savefig(os.path.join(path, '04 Analysis','Visualizations', 'bar1_dow.png'))"
   ]
  },
  {
   "cell_type": "code",
   "execution_count": null,
   "id": "24dac670",
   "metadata": {},
   "outputs": [],
   "source": [
    "bar2.figure.savefig(os.path.join(path, '04 Analysis','Visualizations', 'bar2_loyalty.png'))"
   ]
  },
  {
   "cell_type": "code",
   "execution_count": null,
   "id": "74fd49b4",
   "metadata": {},
   "outputs": [],
   "source": [
    "# exporting histograms"
   ]
  },
  {
   "cell_type": "code",
   "execution_count": null,
   "id": "738eaf37",
   "metadata": {},
   "outputs": [],
   "source": [
    "histo1.figure.savefig(os.path.join(path, '04 Analysis','Visualizations', 'histo1_prices.png'))"
   ]
  },
  {
   "cell_type": "code",
   "execution_count": null,
   "id": "33660741",
   "metadata": {},
   "outputs": [],
   "source": [
    "histo2.figure.savefig(os.path.join(path, '04 Analysis','Visualizations', 'histo2_income.png'))"
   ]
  },
  {
   "cell_type": "code",
   "execution_count": null,
   "id": "af41ef71",
   "metadata": {},
   "outputs": [],
   "source": [
    "histo3.figure.savefig(os.path.join(path, '04 Analysis','Visualizations', 'histo3_orderhour.png'))"
   ]
  },
  {
   "cell_type": "code",
   "execution_count": null,
   "id": "d7458647",
   "metadata": {},
   "outputs": [],
   "source": [
    "# exporting scatterplots"
   ]
  },
  {
   "cell_type": "code",
   "execution_count": null,
   "id": "d1bf424c",
   "metadata": {},
   "outputs": [],
   "source": [
    "scatter1.figure.savefig(os.path.join(path, '04 Analysis','Visualizations', 'scatter1_income_age.png'))"
   ]
  },
  {
   "cell_type": "code",
   "execution_count": null,
   "id": "b48acf1c",
   "metadata": {},
   "outputs": [],
   "source": [
    "scatter2.figure.savefig(os.path.join(path, '04 Analysis','Visualizations', 'scatter1_income_maxorder.png'))"
   ]
  },
  {
   "cell_type": "code",
   "execution_count": null,
   "id": "20492fe8",
   "metadata": {},
   "outputs": [],
   "source": [
    "# exporting line charts"
   ]
  },
  {
   "cell_type": "code",
   "execution_count": null,
   "id": "c032f883",
   "metadata": {},
   "outputs": [],
   "source": [
    "line.figure.savefig(os.path.join(path, '04 Analysis','Visualizations', 'line_orderdow_prices.png'))"
   ]
  },
  {
   "cell_type": "code",
   "execution_count": null,
   "id": "8e67017f",
   "metadata": {},
   "outputs": [],
   "source": [
    "line2.figure.savefig(os.path.join(path, '04 Analysis','Visualizations', 'line2_orderhour_prices.png'))"
   ]
  },
  {
   "cell_type": "code",
   "execution_count": null,
   "id": "ac742cf2",
   "metadata": {},
   "outputs": [],
   "source": [
    "line3.figure.savefig(os.path.join(path, '04 Analysis','Visualizations', 'line3_age_dependents.png'))"
   ]
  },
  {
   "cell_type": "code",
   "execution_count": null,
   "id": "1914f4b7",
   "metadata": {},
   "outputs": [],
   "source": []
  },
  {
   "cell_type": "code",
   "execution_count": null,
   "id": "51d0ccd6",
   "metadata": {},
   "outputs": [],
   "source": []
  }
 ],
 "metadata": {
  "kernelspec": {
   "display_name": "Python 3 (ipykernel)",
   "language": "python",
   "name": "python3"
  },
  "language_info": {
   "codemirror_mode": {
    "name": "ipython",
    "version": 3
   },
   "file_extension": ".py",
   "mimetype": "text/x-python",
   "name": "python",
   "nbconvert_exporter": "python",
   "pygments_lexer": "ipython3",
   "version": "3.9.12"
  }
 },
 "nbformat": 4,
 "nbformat_minor": 5
}
