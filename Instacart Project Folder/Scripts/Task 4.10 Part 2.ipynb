{
 "cells": [
  {
   "cell_type": "code",
   "execution_count": null,
   "id": "75441622",
   "metadata": {},
   "outputs": [],
   "source": [
    "Contents\n",
    "Bar chart for department orders\n",
    "Recreate regions\n",
    "Create stacked bar for number of orders in each region according to departments\n",
    "Create stacked chart for age_flag "
   ]
  },
  {
   "cell_type": "markdown",
   "id": "11ea0f96",
   "metadata": {},
   "source": [
    "01. Importing libraries"
   ]
  },
  {
   "cell_type": "code",
   "execution_count": 1,
   "id": "018841fc",
   "metadata": {},
   "outputs": [],
   "source": [
    "#Importing libraries\n",
    "import pandas as pd\n",
    "import numpy as np\n",
    "import os\n",
    "import matplotlib.pyplot as plt\n",
    "import seaborn as sns\n",
    "import scipy"
   ]
  },
  {
   "cell_type": "markdown",
   "id": "1e6fbf6a",
   "metadata": {},
   "source": [
    "02. Importing data"
   ]
  },
  {
   "cell_type": "code",
   "execution_count": 2,
   "id": "443a3cea",
   "metadata": {},
   "outputs": [],
   "source": [
    "#Importing data\n",
    "df_merged_2 = pd.read_pickle(r\"C:\\Users\\kelly\\OneDrive\\Desktop\\Prepared Data\\df_merged_2.pkl\")"
   ]
  },
  {
   "cell_type": "code",
   "execution_count": 3,
   "id": "58963ad6",
   "metadata": {},
   "outputs": [
    {
     "data": {
      "text/plain": [
       "<pandas.core.groupby.generic.DataFrameGroupBy object at 0x000002433FD080A0>"
      ]
     },
     "execution_count": 3,
     "metadata": {},
     "output_type": "execute_result"
    }
   ],
   "source": [
    "df_merged_2.groupby('department_id')"
   ]
  },
  {
   "cell_type": "code",
   "execution_count": 4,
   "id": "fee4d29a",
   "metadata": {},
   "outputs": [
    {
     "data": {
      "text/plain": [
       "<bound method GroupBy.sum of <pandas.core.groupby.generic.SeriesGroupBy object at 0x000002433AC435B0>>"
      ]
     },
     "execution_count": 4,
     "metadata": {},
     "output_type": "execute_result"
    }
   ],
   "source": [
    "df_merged_2.groupby('department_id')['user_id'].sum"
   ]
  },
  {
   "cell_type": "code",
   "execution_count": 5,
   "id": "0c57a5df",
   "metadata": {},
   "outputs": [
    {
     "data": {
      "text/plain": [
       "department_id\n",
       "1     12973069344\n",
       "2       207306306\n",
       "3      6779117157\n",
       "4     55267357263\n",
       "5       860793442\n",
       "6      1588231450\n",
       "7     15646309813\n",
       "8       559088020\n",
       "9      5003881128\n",
       "10      199362589\n",
       "11     2599643251\n",
       "12     4139189338\n",
       "13    10848134969\n",
       "14     4065533528\n",
       "15     6203663275\n",
       "16    31414552621\n",
       "17     4274606568\n",
       "18     2528466251\n",
       "19    16803082826\n",
       "20     6115512192\n",
       "21      411337626\n",
       "Name: user_id, dtype: int64"
      ]
     },
     "execution_count": 5,
     "metadata": {},
     "output_type": "execute_result"
    }
   ],
   "source": [
    "df_merged_2.groupby('department_id').user_id.sum()"
   ]
  },
  {
   "cell_type": "code",
   "execution_count": 8,
   "id": "4293204a",
   "metadata": {},
   "outputs": [
    {
     "ename": "AttributeError",
     "evalue": "'AxesSubplot' object has no attribute 'sort_index'",
     "output_type": "error",
     "traceback": [
      "\u001b[1;31m---------------------------------------------------------------------------\u001b[0m",
      "\u001b[1;31mAttributeError\u001b[0m                            Traceback (most recent call last)",
      "Input \u001b[1;32mIn [8]\u001b[0m, in \u001b[0;36m<cell line: 1>\u001b[1;34m()\u001b[0m\n\u001b[1;32m----> 1\u001b[0m bar \u001b[38;5;241m=\u001b[39m \u001b[43mdf_merged_2\u001b[49m\u001b[43m[\u001b[49m\u001b[38;5;124;43m'\u001b[39;49m\u001b[38;5;124;43mdepartment_id\u001b[39;49m\u001b[38;5;124;43m'\u001b[39;49m\u001b[43m]\u001b[49m\u001b[38;5;241;43m.\u001b[39;49m\u001b[43mvalue_counts\u001b[49m\u001b[43m(\u001b[49m\u001b[43m)\u001b[49m\u001b[38;5;241;43m.\u001b[39;49m\u001b[43mplot\u001b[49m\u001b[38;5;241;43m.\u001b[39;49m\u001b[43mbar\u001b[49m\u001b[43m(\u001b[49m\u001b[43m)\u001b[49m\u001b[38;5;241;43m.\u001b[39;49m\u001b[43msort_index\u001b[49m()\n",
      "\u001b[1;31mAttributeError\u001b[0m: 'AxesSubplot' object has no attribute 'sort_index'"
     ]
    },
    {
     "data": {
      "image/png": "[encoded data removed]",
      "text/plain": [
       "<Figure size 432x288 with 1 Axes>"
      ]
     },
     "metadata": {
      "needs_background": "light"
     },
     "output_type": "display_data"
    }
   ],
   "source": [
    "#Create a bar chart for department orders\n",
    "bar = df_merged_2['department_id'].value_counts().plot.bar().sort_index()\n"
   ]
  },
  {
   "cell_type": "code",
   "execution_count": 12,
   "id": "22f18e34",
   "metadata": {},
   "outputs": [
    {
     "data": {
      "text/plain": [
       "Index(['Unnamed: 0.1', 'Unnamed: 0_x', 'order_id', 'user_id', 'eval_set',\n",
       "       'order_number', 'orders_day_of_week', 'order_hour_of_day',\n",
       "       'days_since_prior_order', 'product_id', 'add_to_cart_order',\n",
       "       'reordered', '_merge', 'Unnamed: 0_y', 'product_name', 'aisle_id',\n",
       "       'department_id', 'prices', 'price_range_loc', 'busiest_day',\n",
       "       'busiest days', 'busiest_days', 'busiest_period_of_day', 'max_order',\n",
       "       'loyalty_flag', 'spend_habits', 'spending_flag', 'ordering_behavior',\n",
       "       'order_frequency_flag', 'first_name', 'last_name', 'state', 'age',\n",
       "       'date_joined', 'no_of_dependents', 'marital_status', 'income', 'region',\n",
       "       'min_order', 'dependants_profile', 'dependent_profile', 'age_profile',\n",
       "       'age_flag', 'pet_profile'],\n",
       "      dtype='object')"
      ]
     },
     "execution_count": 12,
     "metadata": {},
     "output_type": "execute_result"
    }
   ],
   "source": [
    "df_merged_2.columns"
   ]
  },
  {
   "cell_type": "code",
   "execution_count": 13,
   "id": "431936f1",
   "metadata": {},
   "outputs": [
    {
     "data": {
      "text/plain": [
       "<pandas.core.groupby.generic.DataFrameGroupBy object at 0x000002435ACB4430>"
      ]
     },
     "execution_count": 13,
     "metadata": {},
     "output_type": "execute_result"
    }
   ],
   "source": [
    "df_merged_2.groupby('department_id')"
   ]
  },
  {
   "cell_type": "code",
   "execution_count": 14,
   "id": "00ccff5b",
   "metadata": {},
   "outputs": [
    {
     "data": {
      "text/plain": [
       "<bound method GroupBy.sum of <pandas.core.groupby.generic.SeriesGroupBy object at 0x000002435AD2AE80>>"
      ]
     },
     "execution_count": 14,
     "metadata": {},
     "output_type": "execute_result"
    }
   ],
   "source": [
    "df_merged_2.groupby('department_id')['user_id'].sum"
   ]
  },
  {
   "cell_type": "code",
   "execution_count": 16,
   "id": "75bed87e",
   "metadata": {},
   "outputs": [
    {
     "data": {
      "text/plain": [
       "department_id\n",
       "1     12973069344\n",
       "2       207306306\n",
       "3      6779117157\n",
       "4     55267357263\n",
       "5       860793442\n",
       "6      1588231450\n",
       "7     15646309813\n",
       "8       559088020\n",
       "9      5003881128\n",
       "10      199362589\n",
       "11     2599643251\n",
       "12     4139189338\n",
       "13    10848134969\n",
       "14     4065533528\n",
       "15     6203663275\n",
       "16    31414552621\n",
       "17     4274606568\n",
       "18     2528466251\n",
       "19    16803082826\n",
       "20     6115512192\n",
       "21      411337626\n",
       "Name: user_id, dtype: int64"
      ]
     },
     "execution_count": 16,
     "metadata": {},
     "output_type": "execute_result"
    }
   ],
   "source": [
    "df_merged_2.groupby('department_id').user_id.sum()"
   ]
  },
  {
   "cell_type": "code",
   "execution_count": 38,
   "id": "395a7a34",
   "metadata": {},
   "outputs": [
    {
     "data": {
      "text/plain": [
       "Index(['Unnamed: 0.1', 'Unnamed: 0_x', 'order_id', 'user_id', 'eval_set',\n",
       "       'order_number', 'orders_day_of_week', 'order_hour_of_day',\n",
       "       'days_since_prior_order', 'product_id', 'add_to_cart_order',\n",
       "       'reordered', '_merge', 'Unnamed: 0_y', 'product_name', 'aisle_id',\n",
       "       'department_id', 'prices', 'price_range_loc', 'busiest_day',\n",
       "       'busiest days', 'busiest_days', 'busiest_period_of_day', 'max_order',\n",
       "       'loyalty_flag', 'spend_habits', 'spending_flag', 'ordering_behavior',\n",
       "       'order_frequency_flag', 'first_name', 'last_name', 'state', 'age',\n",
       "       'date_joined', 'no_of_dependents', 'marital_status', 'income', 'region',\n",
       "       'min_order', 'dependants_profile', 'dependent_profile', 'age_profile',\n",
       "       'age_flag', 'pet_profile', 'pets_profile', '8'],\n",
       "      dtype='object')"
      ]
     },
     "execution_count": 38,
     "metadata": {},
     "output_type": "execute_result"
    }
   ],
   "source": [
    "df_merged_2.columns"
   ]
  },
  {
   "cell_type": "code",
   "execution_count": 40,
   "id": "a18fdf74",
   "metadata": {},
   "outputs": [
    {
     "data": {
      "text/plain": [
       "<pandas.core.groupby.generic.DataFrameGroupBy object at 0x000002435C9E3CD0>"
      ]
     },
     "execution_count": 40,
     "metadata": {},
     "output_type": "execute_result"
    }
   ],
   "source": [
    "df_merged_2.groupby('department_id')"
   ]
  },
  {
   "cell_type": "code",
   "execution_count": 47,
   "id": "b8d5f3c0",
   "metadata": {},
   "outputs": [],
   "source": [
    "#Create regions\n",
    "northeast = ['Maine','New Hampshire','Vermont','Massachusetts','Rhode Island','Connecticut','New York','Pennsylvania','New Jersey']"
   ]
  },
  {
   "cell_type": "code",
   "execution_count": 48,
   "id": "b60f8792",
   "metadata": {},
   "outputs": [],
   "source": [
    "midwest = ['Wisconsin','Michigan','Illinois','Indiana','Ohio','North Dakota','South Dakota','Nebraska','Kansas','Minnesota','Iowa','Missouri']"
   ]
  },
  {
   "cell_type": "code",
   "execution_count": 49,
   "id": "a5924509",
   "metadata": {},
   "outputs": [],
   "source": [
    "south = ['Delaware','Maryland','District of Columbia','Virginia','West Virginia','North Carolina','South Carolina','Georgia','Florida','Kentucky', 'Tennessee','Mississippi','Alabama','Oklahoma','Texas','Arkansas','Louisiana']"
   ]
  },
  {
   "cell_type": "code",
   "execution_count": 50,
   "id": "4e87c651",
   "metadata": {},
   "outputs": [],
   "source": [
    "west = ['Idaho','Montana','Wyoming','Nevada','Utah','Colorado','Arizona','New Mexico','Alaska','Washington','Oregon','California','Hawaii']"
   ]
  },
  {
   "cell_type": "code",
   "execution_count": 52,
   "id": "694c3345",
   "metadata": {},
   "outputs": [],
   "source": [
    "# Create a 'Region' column based on the 'State' column from customers data set.\n",
    "df_merged_2.loc[df_merged_2['state'].isin(northeast), 'region'] = 'Northeast'"
   ]
  },
  {
   "cell_type": "code",
   "execution_count": 53,
   "id": "138952db",
   "metadata": {},
   "outputs": [],
   "source": [
    "df_merged_2.loc[df_merged_2['state'].isin(midwest), 'region'] = 'Midwest'"
   ]
  },
  {
   "cell_type": "code",
   "execution_count": 54,
   "id": "88b8ee79",
   "metadata": {},
   "outputs": [],
   "source": [
    "df_merged_2.loc[df_merged_2['state'].isin(south), 'region'] = 'South'"
   ]
  },
  {
   "cell_type": "code",
   "execution_count": 55,
   "id": "34d77881",
   "metadata": {},
   "outputs": [],
   "source": [
    "df_merged_2.loc[df_merged_2['state'].isin(west), 'region'] = 'West'"
   ]
  },
  {
   "cell_type": "code",
   "execution_count": 56,
   "id": "299f3058",
   "metadata": {},
   "outputs": [
    {
     "data": {
      "text/plain": [
       "<bound method IndexOpsMixin.value_counts of 0            Midwest\n",
       "1            Midwest\n",
       "2            Midwest\n",
       "3            Midwest\n",
       "4            Midwest\n",
       "             ...    \n",
       "1827797    Northeast\n",
       "1827798      Midwest\n",
       "1827799      Midwest\n",
       "1827800      Midwest\n",
       "1827801        South\n",
       "Name: region, Length: 1827802, dtype: object>"
      ]
     },
     "execution_count": 56,
     "metadata": {},
     "output_type": "execute_result"
    }
   ],
   "source": [
    "df_merged_2['region'].value_counts"
   ]
  },
  {
   "cell_type": "code",
   "execution_count": 74,
   "id": "50e4698c",
   "metadata": {},
   "outputs": [
    {
     "name": "stderr",
     "output_type": "stream",
     "text": [
      "C:\\Users\\kelly\\anaconda3\\lib\\site-packages\\seaborn\\distributions.py:385: UserWarning: `bins` cannot be 'auto' when using weights. Setting `bins=10`, but you will likely want to adjust.\n",
      "  warnings.warn(msg, UserWarning)\n"
     ]
    },
    {
     "data": {
      "image/png": "[encoded data removed]",
      "text/plain": [
       "<Figure size 432x288 with 1 Axes>"
      ]
     },
     "metadata": {},
     "output_type": "display_data"
    }
   ],
   "source": [
    "#Create stacked bar\n",
    "ax=sns.histplot(df_merged_2, x='department_id', hue='region', weights='order_number', multiple='stack', shrink=0.8)\n",
    "ax.set_ylabel('Number of Orders')\n",
    "legend=ax.get_legend()\n",
    "legend.set_bbox_to_anchor((1,1))\n"
   ]
  },
  {
   "cell_type": "code",
   "execution_count": 75,
   "id": "cc6263ba",
   "metadata": {},
   "outputs": [],
   "source": [
    "#Save stacked chart\n",
    "ax.figure.savefig(r'C:\\Users\\kelly\\OneDrive\\Desktop\\Instacart Project Folder\\Analysis\\Visualizations/department_orders_region.png')"
   ]
  },
  {
   "cell_type": "code",
   "execution_count": 80,
   "id": "11d5a43b",
   "metadata": {},
   "outputs": [
    {
     "data": {
      "image/png": "[encoded data removed]",
      "text/plain": [
       "<Figure size 432x288 with 1 Axes>"
      ]
     },
     "metadata": {},
     "output_type": "display_data"
    }
   ],
   "source": [
    "#Create stacked chart for age_flag\n",
    "ay=sns.histplot(df_merged_2, x='department_id', hue='age_flag', multiple='stack')\n",
    "ax.set_ylabel('Purchases')\n",
    "legend=ax.get_legend()\n"
   ]
  },
  {
   "cell_type": "code",
   "execution_count": 81,
   "id": "4643491b",
   "metadata": {},
   "outputs": [],
   "source": [
    "#Save stacked chart\n",
    "ay.figure.savefig(r'C:\\Users\\kelly\\OneDrive\\Desktop\\Instacart Project Folder\\Analysis\\Visualizations/department_age_orders.png')"
   ]
  },
  {
   "cell_type": "code",
   "execution_count": 82,
   "id": "70325a1c",
   "metadata": {},
   "outputs": [],
   "source": [
    "#Export data\n",
    "df_merged_2.to_pickle(r'C:\\Users\\kelly\\OneDrive\\Desktop\\Prepared Data/final_merged.pkl')"
   ]
  }
 ],
 "metadata": {
  "kernelspec": {
   "display_name": "Python 3 (ipykernel)",
   "language": "python",
   "name": "python3"
  },
  "language_info": {
   "codemirror_mode": {
    "name": "ipython",
    "version": 3
   },
   "file_extension": ".py",
   "mimetype": "text/x-python",
   "name": "python",
   "nbconvert_exporter": "python",
   "pygments_lexer": "ipython3",
   "version": "3.9.12"
  }
 },
 "nbformat": 4,
 "nbformat_minor": 5
}
