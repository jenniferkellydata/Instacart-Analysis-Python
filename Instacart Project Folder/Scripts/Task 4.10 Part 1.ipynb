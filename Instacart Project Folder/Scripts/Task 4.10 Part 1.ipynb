{
 "cells": [
  {
   "cell_type": "markdown",
   "id": "64c32a80",
   "metadata": {},
   "source": [
    "Contents\n",
    "Create a regional segmentation of the data. \n",
    "Create a bar chart for regions.\n",
    "Create an exclusion flag for low-activity customers (customers with less than 5 orders) and exclude them from the data.\n",
    "Graph to show different spending habits between the US regions.\n",
    "Create a new data set by dropping the exclusion_flag.\n",
    "Create an age_flag using loc.\n",
    "Create bar chart.\n",
    "Create an income_profile using loc\n",
    "Create bar chart for dependents"
   ]
  },
  {
   "cell_type": "markdown",
   "id": "cb86b7fe",
   "metadata": {},
   "source": [
    "01. Importing libraries"
   ]
  },
  {
   "cell_type": "code",
   "execution_count": 93,
   "id": "37754881",
   "metadata": {},
   "outputs": [],
   "source": [
    "#Importing libraries\n",
    "import pandas as pd\n",
    "import numpy as np\n",
    "import os\n",
    "import matplotlib.pyplot as plt\n",
    "import seaborn as sns\n",
    "import scipy"
   ]
  },
  {
   "cell_type": "markdown",
   "id": "4fa80f46",
   "metadata": {},
   "source": [
    " Importing data"
   ]
  },
  {
   "cell_type": "code",
   "execution_count": 94,
   "id": "5e515830",
   "metadata": {},
   "outputs": [],
   "source": [
    "#Importing data\n",
    "df_merged = pd.read_pickle(r\"C:\\Users\\kelly\\OneDrive\\Desktop\\Prepared Data\\df_merged.pkl\")"
   ]
  },
  {
   "cell_type": "code",
   "execution_count": 95,
   "id": "3a276905",
   "metadata": {},
   "outputs": [
    {
     "data": {
      "text/html": [
       "<div>\n",
       "<style scoped>\n",
       "    .dataframe tbody tr th:only-of-type {\n",
       "        vertical-align: middle;\n",
       "    }\n",
       "\n",
       "    .dataframe tbody tr th {\n",
       "        vertical-align: top;\n",
       "    }\n",
       "\n",
       "    .dataframe thead th {\n",
       "        text-align: right;\n",
       "    }\n",
       "</style>\n",
       "<table border=\"1\" class=\"dataframe\">\n",
       "  <thead>\n",
       "    <tr style=\"text-align: right;\">\n",
       "      <th></th>\n",
       "      <th>Unnamed: 0.1</th>\n",
       "      <th>Unnamed: 0_x</th>\n",
       "      <th>order_id</th>\n",
       "      <th>user_id</th>\n",
       "      <th>eval_set</th>\n",
       "      <th>order_number</th>\n",
       "      <th>orders_day_of_week</th>\n",
       "      <th>order_hour_of_day</th>\n",
       "      <th>days_since_prior_order</th>\n",
       "      <th>product_id</th>\n",
       "      <th>...</th>\n",
       "      <th>ordering_behavior</th>\n",
       "      <th>order_frequency_flag</th>\n",
       "      <th>first_name</th>\n",
       "      <th>last_name</th>\n",
       "      <th>state</th>\n",
       "      <th>age</th>\n",
       "      <th>date_joined</th>\n",
       "      <th>no_of_dependents</th>\n",
       "      <th>marital_status</th>\n",
       "      <th>income</th>\n",
       "    </tr>\n",
       "  </thead>\n",
       "  <tbody>\n",
       "    <tr>\n",
       "      <th>0</th>\n",
       "      <td>769</td>\n",
       "      <td>769</td>\n",
       "      <td>180919</td>\n",
       "      <td>180919</td>\n",
       "      <td>prior</td>\n",
       "      <td>19</td>\n",
       "      <td>3</td>\n",
       "      <td>8</td>\n",
       "      <td>8.0</td>\n",
       "      <td>196</td>\n",
       "      <td>...</td>\n",
       "      <td>8.0</td>\n",
       "      <td>Frequent Customer</td>\n",
       "      <td>Jacqueline</td>\n",
       "      <td>Roach</td>\n",
       "      <td>Nebraska</td>\n",
       "      <td>21</td>\n",
       "      <td>1/1/2017</td>\n",
       "      <td>3</td>\n",
       "      <td>living with parents and siblings</td>\n",
       "      <td>56831</td>\n",
       "    </tr>\n",
       "    <tr>\n",
       "      <th>1</th>\n",
       "      <td>769</td>\n",
       "      <td>769</td>\n",
       "      <td>180919</td>\n",
       "      <td>180919</td>\n",
       "      <td>prior</td>\n",
       "      <td>19</td>\n",
       "      <td>3</td>\n",
       "      <td>8</td>\n",
       "      <td>8.0</td>\n",
       "      <td>41787</td>\n",
       "      <td>...</td>\n",
       "      <td>8.0</td>\n",
       "      <td>Frequent Customer</td>\n",
       "      <td>Jacqueline</td>\n",
       "      <td>Roach</td>\n",
       "      <td>Nebraska</td>\n",
       "      <td>21</td>\n",
       "      <td>1/1/2017</td>\n",
       "      <td>3</td>\n",
       "      <td>living with parents and siblings</td>\n",
       "      <td>56831</td>\n",
       "    </tr>\n",
       "    <tr>\n",
       "      <th>2</th>\n",
       "      <td>769</td>\n",
       "      <td>769</td>\n",
       "      <td>180919</td>\n",
       "      <td>180919</td>\n",
       "      <td>prior</td>\n",
       "      <td>19</td>\n",
       "      <td>3</td>\n",
       "      <td>8</td>\n",
       "      <td>8.0</td>\n",
       "      <td>46149</td>\n",
       "      <td>...</td>\n",
       "      <td>8.0</td>\n",
       "      <td>Frequent Customer</td>\n",
       "      <td>Jacqueline</td>\n",
       "      <td>Roach</td>\n",
       "      <td>Nebraska</td>\n",
       "      <td>21</td>\n",
       "      <td>1/1/2017</td>\n",
       "      <td>3</td>\n",
       "      <td>living with parents and siblings</td>\n",
       "      <td>56831</td>\n",
       "    </tr>\n",
       "    <tr>\n",
       "      <th>3</th>\n",
       "      <td>769</td>\n",
       "      <td>769</td>\n",
       "      <td>180919</td>\n",
       "      <td>180919</td>\n",
       "      <td>prior</td>\n",
       "      <td>19</td>\n",
       "      <td>3</td>\n",
       "      <td>8</td>\n",
       "      <td>8.0</td>\n",
       "      <td>38928</td>\n",
       "      <td>...</td>\n",
       "      <td>8.0</td>\n",
       "      <td>Frequent Customer</td>\n",
       "      <td>Jacqueline</td>\n",
       "      <td>Roach</td>\n",
       "      <td>Nebraska</td>\n",
       "      <td>21</td>\n",
       "      <td>1/1/2017</td>\n",
       "      <td>3</td>\n",
       "      <td>living with parents and siblings</td>\n",
       "      <td>56831</td>\n",
       "    </tr>\n",
       "    <tr>\n",
       "      <th>4</th>\n",
       "      <td>769</td>\n",
       "      <td>769</td>\n",
       "      <td>180919</td>\n",
       "      <td>180919</td>\n",
       "      <td>prior</td>\n",
       "      <td>19</td>\n",
       "      <td>3</td>\n",
       "      <td>8</td>\n",
       "      <td>8.0</td>\n",
       "      <td>10441</td>\n",
       "      <td>...</td>\n",
       "      <td>8.0</td>\n",
       "      <td>Frequent Customer</td>\n",
       "      <td>Jacqueline</td>\n",
       "      <td>Roach</td>\n",
       "      <td>Nebraska</td>\n",
       "      <td>21</td>\n",
       "      <td>1/1/2017</td>\n",
       "      <td>3</td>\n",
       "      <td>living with parents and siblings</td>\n",
       "      <td>56831</td>\n",
       "    </tr>\n",
       "  </tbody>\n",
       "</table>\n",
       "<p>5 rows × 37 columns</p>\n",
       "</div>"
      ],
      "text/plain": [
       "   Unnamed: 0.1  Unnamed: 0_x  order_id  user_id eval_set  order_number  \\\n",
       "0           769           769    180919   180919    prior            19   \n",
       "1           769           769    180919   180919    prior            19   \n",
       "2           769           769    180919   180919    prior            19   \n",
       "3           769           769    180919   180919    prior            19   \n",
       "4           769           769    180919   180919    prior            19   \n",
       "\n",
       "   orders_day_of_week  order_hour_of_day  days_since_prior_order  product_id  \\\n",
       "0                   3                  8                     8.0         196   \n",
       "1                   3                  8                     8.0       41787   \n",
       "2                   3                  8                     8.0       46149   \n",
       "3                   3                  8                     8.0       38928   \n",
       "4                   3                  8                     8.0       10441   \n",
       "\n",
       "   ...  ordering_behavior  order_frequency_flag  first_name  last_name  \\\n",
       "0  ...                8.0     Frequent Customer  Jacqueline      Roach   \n",
       "1  ...                8.0     Frequent Customer  Jacqueline      Roach   \n",
       "2  ...                8.0     Frequent Customer  Jacqueline      Roach   \n",
       "3  ...                8.0     Frequent Customer  Jacqueline      Roach   \n",
       "4  ...                8.0     Frequent Customer  Jacqueline      Roach   \n",
       "\n",
       "      state  age  date_joined  no_of_dependents  \\\n",
       "0  Nebraska   21     1/1/2017                 3   \n",
       "1  Nebraska   21     1/1/2017                 3   \n",
       "2  Nebraska   21     1/1/2017                 3   \n",
       "3  Nebraska   21     1/1/2017                 3   \n",
       "4  Nebraska   21     1/1/2017                 3   \n",
       "\n",
       "                     marital_status income  \n",
       "0  living with parents and siblings  56831  \n",
       "1  living with parents and siblings  56831  \n",
       "2  living with parents and siblings  56831  \n",
       "3  living with parents and siblings  56831  \n",
       "4  living with parents and siblings  56831  \n",
       "\n",
       "[5 rows x 37 columns]"
      ]
     },
     "execution_count": 95,
     "metadata": {},
     "output_type": "execute_result"
    }
   ],
   "source": [
    "df_merged.head()"
   ]
  },
  {
   "cell_type": "markdown",
   "id": "87fe6ef1",
   "metadata": {},
   "source": [
    "02. PII data"
   ]
  },
  {
   "cell_type": "markdown",
   "id": "8996c785",
   "metadata": {},
   "source": [
    "PII data = 'first_name', 'last_name'"
   ]
  },
  {
   "cell_type": "markdown",
   "id": "1672ef28",
   "metadata": {},
   "source": [
    "03. Create a regional segmentation of the data.  "
   ]
  },
  {
   "cell_type": "code",
   "execution_count": 96,
   "id": "2c786a9f",
   "metadata": {},
   "outputs": [],
   "source": [
    "#Create regions\n",
    "northeast = ['Maine','New Hampshire','Vermont','Massachusetts','Rhode Island','Connecticut','New York','Pennsylvania','New Jersey']"
   ]
  },
  {
   "cell_type": "code",
   "execution_count": 97,
   "id": "2db2e8c6",
   "metadata": {},
   "outputs": [],
   "source": [
    "midwest = ['Wisconsin','Michigan','Illinois','Indiana','Ohio','North Dakota','South Dakota','Nebraska','Kansas','Minnesota','Iowa','Missouri']"
   ]
  },
  {
   "cell_type": "code",
   "execution_count": 98,
   "id": "e4d3f636",
   "metadata": {},
   "outputs": [],
   "source": [
    "south = ['Delaware','Maryland','District of Columbia','Virginia','West Virginia','North Carolina','South Carolina','Georgia','Florida','Kentucky', 'Tennessee','Mississippi','Alabama','Oklahoma','Texas','Arkansas','Louisiana']"
   ]
  },
  {
   "cell_type": "code",
   "execution_count": 99,
   "id": "b54ed677",
   "metadata": {},
   "outputs": [],
   "source": [
    "west = ['Idaho','Montana','Wyoming','Nevada','Utah','Colorado','Arizona','New Mexico','Alaska','Washington','Oregon','California','Hawaii']"
   ]
  },
  {
   "cell_type": "code",
   "execution_count": 100,
   "id": "e4d34a4f",
   "metadata": {},
   "outputs": [],
   "source": [
    "# Create a 'Region' column based on the 'State' column from customers data set.\n",
    "df_merged.loc[df_merged['state'].isin(northeast), 'region'] = 'Northeast'"
   ]
  },
  {
   "cell_type": "code",
   "execution_count": 101,
   "id": "e0993cc9",
   "metadata": {},
   "outputs": [],
   "source": [
    "df_merged.loc[df_merged['state'].isin(midwest), 'region'] = 'Midwest'"
   ]
  },
  {
   "cell_type": "code",
   "execution_count": 102,
   "id": "054f29df",
   "metadata": {},
   "outputs": [],
   "source": [
    "df_merged.loc[df_merged['state'].isin(south), 'region'] = 'South'"
   ]
  },
  {
   "cell_type": "code",
   "execution_count": 103,
   "id": "142f1fe3",
   "metadata": {},
   "outputs": [],
   "source": [
    "df_merged.loc[df_merged['state'].isin(west), 'region'] = 'West'"
   ]
  },
  {
   "cell_type": "code",
   "execution_count": 104,
   "id": "4a781e48",
   "metadata": {
    "scrolled": true
   },
   "outputs": [
    {
     "data": {
      "text/plain": [
       "<bound method IndexOpsMixin.value_counts of 0            Midwest\n",
       "1            Midwest\n",
       "2            Midwest\n",
       "3            Midwest\n",
       "4            Midwest\n",
       "             ...    \n",
       "1827797    Northeast\n",
       "1827798      Midwest\n",
       "1827799      Midwest\n",
       "1827800      Midwest\n",
       "1827801        South\n",
       "Name: region, Length: 1827802, dtype: object>"
      ]
     },
     "execution_count": 104,
     "metadata": {},
     "output_type": "execute_result"
    }
   ],
   "source": [
    "df_merged['region'].value_counts"
   ]
  },
  {
   "cell_type": "code",
   "execution_count": 105,
   "id": "4f490e09",
   "metadata": {
    "scrolled": true
   },
   "outputs": [
    {
     "data": {
      "image/png": "[encoded data removed]",
      "text/plain": [
       "<Figure size 432x288 with 1 Axes>"
      ]
     },
     "metadata": {
      "needs_background": "light"
     },
     "output_type": "display_data"
    }
   ],
   "source": [
    "#Create a bar chart\n",
    "bar = df_merged['region'].value_counts().plot.bar()"
   ]
  },
  {
   "cell_type": "code",
   "execution_count": 106,
   "id": "26ab7d60",
   "metadata": {},
   "outputs": [],
   "source": [
    "#Save bar chart\n",
    "bar.figure.savefig(r'C:\\Users\\kelly\\OneDrive\\Desktop\\Instacart Project Folder\\Analysis\\Visualizations/bar_regions.png')"
   ]
  },
  {
   "cell_type": "markdown",
   "id": "f1b645f8",
   "metadata": {},
   "source": [
    "04. Create an exclusion flag for low-activity customers (customers with less than 5 orders) and exclude them from the data."
   ]
  },
  {
   "cell_type": "code",
   "execution_count": 107,
   "id": "0a549eee",
   "metadata": {},
   "outputs": [
    {
     "data": {
      "text/plain": [
       "<pandas.core.groupby.generic.DataFrameGroupBy object at 0x00000261E7C72C10>"
      ]
     },
     "execution_count": 107,
     "metadata": {},
     "output_type": "execute_result"
    }
   ],
   "source": [
    "df_merged.groupby('order_number')"
   ]
  },
  {
   "cell_type": "code",
   "execution_count": 108,
   "id": "4f2bc1d0",
   "metadata": {},
   "outputs": [
    {
     "data": {
      "text/plain": [
       "<bound method GroupBy.min of <pandas.core.groupby.generic.SeriesGroupBy object at 0x000002615A8092E0>>"
      ]
     },
     "execution_count": 108,
     "metadata": {},
     "output_type": "execute_result"
    }
   ],
   "source": [
    "df_merged.groupby('user_id')['order_number'].min"
   ]
  },
  {
   "cell_type": "code",
   "execution_count": 109,
   "id": "c7aaf544",
   "metadata": {},
   "outputs": [
    {
     "data": {
      "text/plain": [
       "user_id\n",
       "2          3\n",
       "3         16\n",
       "4         36\n",
       "5         42\n",
       "6          4\n",
       "          ..\n",
       "206202    11\n",
       "206204    32\n",
       "206206    31\n",
       "206207    15\n",
       "206209     2\n",
       "Name: order_number, Length: 181236, dtype: int64"
      ]
     },
     "execution_count": 109,
     "metadata": {},
     "output_type": "execute_result"
    }
   ],
   "source": [
    "df_merged.groupby('user_id').order_number.min()"
   ]
  },
  {
   "cell_type": "code",
   "execution_count": 110,
   "id": "02545758",
   "metadata": {},
   "outputs": [],
   "source": [
    "df_merged['min_order'] = df_merged.groupby(['user_id'])['order_number'].transform(np.min)"
   ]
  },
  {
   "cell_type": "code",
   "execution_count": 111,
   "id": "7fd63a64",
   "metadata": {},
   "outputs": [
    {
     "data": {
      "text/html": [
       "<div>\n",
       "<style scoped>\n",
       "    .dataframe tbody tr th:only-of-type {\n",
       "        vertical-align: middle;\n",
       "    }\n",
       "\n",
       "    .dataframe tbody tr th {\n",
       "        vertical-align: top;\n",
       "    }\n",
       "\n",
       "    .dataframe thead th {\n",
       "        text-align: right;\n",
       "    }\n",
       "</style>\n",
       "<table border=\"1\" class=\"dataframe\">\n",
       "  <thead>\n",
       "    <tr style=\"text-align: right;\">\n",
       "      <th></th>\n",
       "      <th>Unnamed: 0.1</th>\n",
       "      <th>Unnamed: 0_x</th>\n",
       "      <th>order_id</th>\n",
       "      <th>user_id</th>\n",
       "      <th>eval_set</th>\n",
       "      <th>order_number</th>\n",
       "      <th>orders_day_of_week</th>\n",
       "      <th>order_hour_of_day</th>\n",
       "      <th>days_since_prior_order</th>\n",
       "      <th>product_id</th>\n",
       "      <th>...</th>\n",
       "      <th>first_name</th>\n",
       "      <th>last_name</th>\n",
       "      <th>state</th>\n",
       "      <th>age</th>\n",
       "      <th>date_joined</th>\n",
       "      <th>no_of_dependents</th>\n",
       "      <th>marital_status</th>\n",
       "      <th>income</th>\n",
       "      <th>region</th>\n",
       "      <th>min_order</th>\n",
       "    </tr>\n",
       "  </thead>\n",
       "  <tbody>\n",
       "    <tr>\n",
       "      <th>0</th>\n",
       "      <td>769</td>\n",
       "      <td>769</td>\n",
       "      <td>180919</td>\n",
       "      <td>180919</td>\n",
       "      <td>prior</td>\n",
       "      <td>19</td>\n",
       "      <td>3</td>\n",
       "      <td>8</td>\n",
       "      <td>8.0</td>\n",
       "      <td>196</td>\n",
       "      <td>...</td>\n",
       "      <td>Jacqueline</td>\n",
       "      <td>Roach</td>\n",
       "      <td>Nebraska</td>\n",
       "      <td>21</td>\n",
       "      <td>1/1/2017</td>\n",
       "      <td>3</td>\n",
       "      <td>living with parents and siblings</td>\n",
       "      <td>56831</td>\n",
       "      <td>Midwest</td>\n",
       "      <td>19</td>\n",
       "    </tr>\n",
       "    <tr>\n",
       "      <th>1</th>\n",
       "      <td>769</td>\n",
       "      <td>769</td>\n",
       "      <td>180919</td>\n",
       "      <td>180919</td>\n",
       "      <td>prior</td>\n",
       "      <td>19</td>\n",
       "      <td>3</td>\n",
       "      <td>8</td>\n",
       "      <td>8.0</td>\n",
       "      <td>41787</td>\n",
       "      <td>...</td>\n",
       "      <td>Jacqueline</td>\n",
       "      <td>Roach</td>\n",
       "      <td>Nebraska</td>\n",
       "      <td>21</td>\n",
       "      <td>1/1/2017</td>\n",
       "      <td>3</td>\n",
       "      <td>living with parents and siblings</td>\n",
       "      <td>56831</td>\n",
       "      <td>Midwest</td>\n",
       "      <td>19</td>\n",
       "    </tr>\n",
       "    <tr>\n",
       "      <th>2</th>\n",
       "      <td>769</td>\n",
       "      <td>769</td>\n",
       "      <td>180919</td>\n",
       "      <td>180919</td>\n",
       "      <td>prior</td>\n",
       "      <td>19</td>\n",
       "      <td>3</td>\n",
       "      <td>8</td>\n",
       "      <td>8.0</td>\n",
       "      <td>46149</td>\n",
       "      <td>...</td>\n",
       "      <td>Jacqueline</td>\n",
       "      <td>Roach</td>\n",
       "      <td>Nebraska</td>\n",
       "      <td>21</td>\n",
       "      <td>1/1/2017</td>\n",
       "      <td>3</td>\n",
       "      <td>living with parents and siblings</td>\n",
       "      <td>56831</td>\n",
       "      <td>Midwest</td>\n",
       "      <td>19</td>\n",
       "    </tr>\n",
       "    <tr>\n",
       "      <th>3</th>\n",
       "      <td>769</td>\n",
       "      <td>769</td>\n",
       "      <td>180919</td>\n",
       "      <td>180919</td>\n",
       "      <td>prior</td>\n",
       "      <td>19</td>\n",
       "      <td>3</td>\n",
       "      <td>8</td>\n",
       "      <td>8.0</td>\n",
       "      <td>38928</td>\n",
       "      <td>...</td>\n",
       "      <td>Jacqueline</td>\n",
       "      <td>Roach</td>\n",
       "      <td>Nebraska</td>\n",
       "      <td>21</td>\n",
       "      <td>1/1/2017</td>\n",
       "      <td>3</td>\n",
       "      <td>living with parents and siblings</td>\n",
       "      <td>56831</td>\n",
       "      <td>Midwest</td>\n",
       "      <td>19</td>\n",
       "    </tr>\n",
       "    <tr>\n",
       "      <th>4</th>\n",
       "      <td>769</td>\n",
       "      <td>769</td>\n",
       "      <td>180919</td>\n",
       "      <td>180919</td>\n",
       "      <td>prior</td>\n",
       "      <td>19</td>\n",
       "      <td>3</td>\n",
       "      <td>8</td>\n",
       "      <td>8.0</td>\n",
       "      <td>10441</td>\n",
       "      <td>...</td>\n",
       "      <td>Jacqueline</td>\n",
       "      <td>Roach</td>\n",
       "      <td>Nebraska</td>\n",
       "      <td>21</td>\n",
       "      <td>1/1/2017</td>\n",
       "      <td>3</td>\n",
       "      <td>living with parents and siblings</td>\n",
       "      <td>56831</td>\n",
       "      <td>Midwest</td>\n",
       "      <td>19</td>\n",
       "    </tr>\n",
       "  </tbody>\n",
       "</table>\n",
       "<p>5 rows × 39 columns</p>\n",
       "</div>"
      ],
      "text/plain": [
       "   Unnamed: 0.1  Unnamed: 0_x  order_id  user_id eval_set  order_number  \\\n",
       "0           769           769    180919   180919    prior            19   \n",
       "1           769           769    180919   180919    prior            19   \n",
       "2           769           769    180919   180919    prior            19   \n",
       "3           769           769    180919   180919    prior            19   \n",
       "4           769           769    180919   180919    prior            19   \n",
       "\n",
       "   orders_day_of_week  order_hour_of_day  days_since_prior_order  product_id  \\\n",
       "0                   3                  8                     8.0         196   \n",
       "1                   3                  8                     8.0       41787   \n",
       "2                   3                  8                     8.0       46149   \n",
       "3                   3                  8                     8.0       38928   \n",
       "4                   3                  8                     8.0       10441   \n",
       "\n",
       "   ...  first_name  last_name     state  age date_joined  no_of_dependents  \\\n",
       "0  ...  Jacqueline      Roach  Nebraska   21    1/1/2017                 3   \n",
       "1  ...  Jacqueline      Roach  Nebraska   21    1/1/2017                 3   \n",
       "2  ...  Jacqueline      Roach  Nebraska   21    1/1/2017                 3   \n",
       "3  ...  Jacqueline      Roach  Nebraska   21    1/1/2017                 3   \n",
       "4  ...  Jacqueline      Roach  Nebraska   21    1/1/2017                 3   \n",
       "\n",
       "                     marital_status  income   region min_order  \n",
       "0  living with parents and siblings   56831  Midwest        19  \n",
       "1  living with parents and siblings   56831  Midwest        19  \n",
       "2  living with parents and siblings   56831  Midwest        19  \n",
       "3  living with parents and siblings   56831  Midwest        19  \n",
       "4  living with parents and siblings   56831  Midwest        19  \n",
       "\n",
       "[5 rows x 39 columns]"
      ]
     },
     "execution_count": 111,
     "metadata": {},
     "output_type": "execute_result"
    }
   ],
   "source": [
    "df_merged.head()"
   ]
  },
  {
   "cell_type": "code",
   "execution_count": 112,
   "id": "d1a15c4b",
   "metadata": {},
   "outputs": [],
   "source": [
    "df_merged.loc[df_merged['min_order'] < 5, 'exclusion_flag'] = 'low-activity customers'"
   ]
  },
  {
   "cell_type": "code",
   "execution_count": 113,
   "id": "54aae2e7",
   "metadata": {},
   "outputs": [
    {
     "data": {
      "text/plain": [
       "NaN                       1474035\n",
       "low-activity customers     353767\n",
       "Name: exclusion_flag, dtype: int64"
      ]
     },
     "execution_count": 113,
     "metadata": {},
     "output_type": "execute_result"
    }
   ],
   "source": [
    "df_merged['exclusion_flag'].value_counts(dropna = False)"
   ]
  },
  {
   "cell_type": "code",
   "execution_count": 114,
   "id": "ec6b3bf6",
   "metadata": {
    "scrolled": true
   },
   "outputs": [
    {
     "data": {
      "text/html": [
       "<div>\n",
       "<style scoped>\n",
       "    .dataframe tbody tr th:only-of-type {\n",
       "        vertical-align: middle;\n",
       "    }\n",
       "\n",
       "    .dataframe tbody tr th {\n",
       "        vertical-align: top;\n",
       "    }\n",
       "\n",
       "    .dataframe thead th {\n",
       "        text-align: right;\n",
       "    }\n",
       "</style>\n",
       "<table border=\"1\" class=\"dataframe\">\n",
       "  <thead>\n",
       "    <tr style=\"text-align: right;\">\n",
       "      <th></th>\n",
       "      <th>Unnamed: 0.1</th>\n",
       "      <th>Unnamed: 0_x</th>\n",
       "      <th>order_id</th>\n",
       "      <th>user_id</th>\n",
       "      <th>eval_set</th>\n",
       "      <th>order_number</th>\n",
       "      <th>orders_day_of_week</th>\n",
       "      <th>order_hour_of_day</th>\n",
       "      <th>days_since_prior_order</th>\n",
       "      <th>product_id</th>\n",
       "      <th>...</th>\n",
       "      <th>last_name</th>\n",
       "      <th>state</th>\n",
       "      <th>age</th>\n",
       "      <th>date_joined</th>\n",
       "      <th>no_of_dependents</th>\n",
       "      <th>marital_status</th>\n",
       "      <th>income</th>\n",
       "      <th>region</th>\n",
       "      <th>min_order</th>\n",
       "      <th>exclusion_flag</th>\n",
       "    </tr>\n",
       "  </thead>\n",
       "  <tbody>\n",
       "    <tr>\n",
       "      <th>0</th>\n",
       "      <td>769</td>\n",
       "      <td>769</td>\n",
       "      <td>180919</td>\n",
       "      <td>180919</td>\n",
       "      <td>prior</td>\n",
       "      <td>19</td>\n",
       "      <td>3</td>\n",
       "      <td>8</td>\n",
       "      <td>8.0</td>\n",
       "      <td>196</td>\n",
       "      <td>...</td>\n",
       "      <td>Roach</td>\n",
       "      <td>Nebraska</td>\n",
       "      <td>21</td>\n",
       "      <td>1/1/2017</td>\n",
       "      <td>3</td>\n",
       "      <td>living with parents and siblings</td>\n",
       "      <td>56831</td>\n",
       "      <td>Midwest</td>\n",
       "      <td>19</td>\n",
       "      <td>NaN</td>\n",
       "    </tr>\n",
       "    <tr>\n",
       "      <th>1</th>\n",
       "      <td>769</td>\n",
       "      <td>769</td>\n",
       "      <td>180919</td>\n",
       "      <td>180919</td>\n",
       "      <td>prior</td>\n",
       "      <td>19</td>\n",
       "      <td>3</td>\n",
       "      <td>8</td>\n",
       "      <td>8.0</td>\n",
       "      <td>41787</td>\n",
       "      <td>...</td>\n",
       "      <td>Roach</td>\n",
       "      <td>Nebraska</td>\n",
       "      <td>21</td>\n",
       "      <td>1/1/2017</td>\n",
       "      <td>3</td>\n",
       "      <td>living with parents and siblings</td>\n",
       "      <td>56831</td>\n",
       "      <td>Midwest</td>\n",
       "      <td>19</td>\n",
       "      <td>NaN</td>\n",
       "    </tr>\n",
       "    <tr>\n",
       "      <th>2</th>\n",
       "      <td>769</td>\n",
       "      <td>769</td>\n",
       "      <td>180919</td>\n",
       "      <td>180919</td>\n",
       "      <td>prior</td>\n",
       "      <td>19</td>\n",
       "      <td>3</td>\n",
       "      <td>8</td>\n",
       "      <td>8.0</td>\n",
       "      <td>46149</td>\n",
       "      <td>...</td>\n",
       "      <td>Roach</td>\n",
       "      <td>Nebraska</td>\n",
       "      <td>21</td>\n",
       "      <td>1/1/2017</td>\n",
       "      <td>3</td>\n",
       "      <td>living with parents and siblings</td>\n",
       "      <td>56831</td>\n",
       "      <td>Midwest</td>\n",
       "      <td>19</td>\n",
       "      <td>NaN</td>\n",
       "    </tr>\n",
       "    <tr>\n",
       "      <th>3</th>\n",
       "      <td>769</td>\n",
       "      <td>769</td>\n",
       "      <td>180919</td>\n",
       "      <td>180919</td>\n",
       "      <td>prior</td>\n",
       "      <td>19</td>\n",
       "      <td>3</td>\n",
       "      <td>8</td>\n",
       "      <td>8.0</td>\n",
       "      <td>38928</td>\n",
       "      <td>...</td>\n",
       "      <td>Roach</td>\n",
       "      <td>Nebraska</td>\n",
       "      <td>21</td>\n",
       "      <td>1/1/2017</td>\n",
       "      <td>3</td>\n",
       "      <td>living with parents and siblings</td>\n",
       "      <td>56831</td>\n",
       "      <td>Midwest</td>\n",
       "      <td>19</td>\n",
       "      <td>NaN</td>\n",
       "    </tr>\n",
       "    <tr>\n",
       "      <th>4</th>\n",
       "      <td>769</td>\n",
       "      <td>769</td>\n",
       "      <td>180919</td>\n",
       "      <td>180919</td>\n",
       "      <td>prior</td>\n",
       "      <td>19</td>\n",
       "      <td>3</td>\n",
       "      <td>8</td>\n",
       "      <td>8.0</td>\n",
       "      <td>10441</td>\n",
       "      <td>...</td>\n",
       "      <td>Roach</td>\n",
       "      <td>Nebraska</td>\n",
       "      <td>21</td>\n",
       "      <td>1/1/2017</td>\n",
       "      <td>3</td>\n",
       "      <td>living with parents and siblings</td>\n",
       "      <td>56831</td>\n",
       "      <td>Midwest</td>\n",
       "      <td>19</td>\n",
       "      <td>NaN</td>\n",
       "    </tr>\n",
       "  </tbody>\n",
       "</table>\n",
       "<p>5 rows × 40 columns</p>\n",
       "</div>"
      ],
      "text/plain": [
       "   Unnamed: 0.1  Unnamed: 0_x  order_id  user_id eval_set  order_number  \\\n",
       "0           769           769    180919   180919    prior            19   \n",
       "1           769           769    180919   180919    prior            19   \n",
       "2           769           769    180919   180919    prior            19   \n",
       "3           769           769    180919   180919    prior            19   \n",
       "4           769           769    180919   180919    prior            19   \n",
       "\n",
       "   orders_day_of_week  order_hour_of_day  days_since_prior_order  product_id  \\\n",
       "0                   3                  8                     8.0         196   \n",
       "1                   3                  8                     8.0       41787   \n",
       "2                   3                  8                     8.0       46149   \n",
       "3                   3                  8                     8.0       38928   \n",
       "4                   3                  8                     8.0       10441   \n",
       "\n",
       "   ...  last_name     state age  date_joined no_of_dependents  \\\n",
       "0  ...      Roach  Nebraska  21     1/1/2017                3   \n",
       "1  ...      Roach  Nebraska  21     1/1/2017                3   \n",
       "2  ...      Roach  Nebraska  21     1/1/2017                3   \n",
       "3  ...      Roach  Nebraska  21     1/1/2017                3   \n",
       "4  ...      Roach  Nebraska  21     1/1/2017                3   \n",
       "\n",
       "                     marital_status  income   region min_order exclusion_flag  \n",
       "0  living with parents and siblings   56831  Midwest        19            NaN  \n",
       "1  living with parents and siblings   56831  Midwest        19            NaN  \n",
       "2  living with parents and siblings   56831  Midwest        19            NaN  \n",
       "3  living with parents and siblings   56831  Midwest        19            NaN  \n",
       "4  living with parents and siblings   56831  Midwest        19            NaN  \n",
       "\n",
       "[5 rows x 40 columns]"
      ]
     },
     "execution_count": 114,
     "metadata": {},
     "output_type": "execute_result"
    }
   ],
   "source": [
    "df_merged.head()"
   ]
  },
  {
   "cell_type": "code",
   "execution_count": 115,
   "id": "8d5e52db",
   "metadata": {},
   "outputs": [
    {
     "data": {
      "text/plain": [
       "Index(['Unnamed: 0.1', 'Unnamed: 0_x', 'order_id', 'user_id', 'eval_set',\n",
       "       'order_number', 'orders_day_of_week', 'order_hour_of_day',\n",
       "       'days_since_prior_order', 'product_id', 'add_to_cart_order',\n",
       "       'reordered', '_merge', 'Unnamed: 0_y', 'product_name', 'aisle_id',\n",
       "       'department_id', 'prices', 'price_range_loc', 'busiest_day',\n",
       "       'busiest days', 'busiest_days', 'busiest_period_of_day', 'max_order',\n",
       "       'loyalty_flag', 'spend_habits', 'spending_flag', 'ordering_behavior',\n",
       "       'order_frequency_flag', 'first_name', 'last_name', 'state', 'age',\n",
       "       'date_joined', 'no_of_dependents', 'marital_status', 'income', 'region',\n",
       "       'min_order', 'exclusion_flag'],\n",
       "      dtype='object')"
      ]
     },
     "execution_count": 115,
     "metadata": {},
     "output_type": "execute_result"
    }
   ],
   "source": [
    "df_merged.columns"
   ]
  },
  {
   "cell_type": "code",
   "execution_count": 116,
   "id": "a208ce55",
   "metadata": {},
   "outputs": [
    {
     "data": {
      "text/html": [
       "<div>\n",
       "<style scoped>\n",
       "    .dataframe tbody tr th:only-of-type {\n",
       "        vertical-align: middle;\n",
       "    }\n",
       "\n",
       "    .dataframe tbody tr th {\n",
       "        vertical-align: top;\n",
       "    }\n",
       "\n",
       "    .dataframe thead th {\n",
       "        text-align: right;\n",
       "    }\n",
       "</style>\n",
       "<table border=\"1\" class=\"dataframe\">\n",
       "  <thead>\n",
       "    <tr style=\"text-align: right;\">\n",
       "      <th></th>\n",
       "      <th></th>\n",
       "      <th>Unnamed: 0.1</th>\n",
       "      <th>Unnamed: 0_x</th>\n",
       "      <th>order_id</th>\n",
       "      <th>user_id</th>\n",
       "      <th>order_number</th>\n",
       "      <th>orders_day_of_week</th>\n",
       "      <th>order_hour_of_day</th>\n",
       "      <th>days_since_prior_order</th>\n",
       "      <th>product_id</th>\n",
       "      <th>add_to_cart_order</th>\n",
       "      <th>...</th>\n",
       "      <th>aisle_id</th>\n",
       "      <th>department_id</th>\n",
       "      <th>prices</th>\n",
       "      <th>max_order</th>\n",
       "      <th>spend_habits</th>\n",
       "      <th>ordering_behavior</th>\n",
       "      <th>age</th>\n",
       "      <th>no_of_dependents</th>\n",
       "      <th>income</th>\n",
       "      <th>min_order</th>\n",
       "    </tr>\n",
       "    <tr>\n",
       "      <th>region</th>\n",
       "      <th>spending_flag</th>\n",
       "      <th></th>\n",
       "      <th></th>\n",
       "      <th></th>\n",
       "      <th></th>\n",
       "      <th></th>\n",
       "      <th></th>\n",
       "      <th></th>\n",
       "      <th></th>\n",
       "      <th></th>\n",
       "      <th></th>\n",
       "      <th></th>\n",
       "      <th></th>\n",
       "      <th></th>\n",
       "      <th></th>\n",
       "      <th></th>\n",
       "      <th></th>\n",
       "      <th></th>\n",
       "      <th></th>\n",
       "      <th></th>\n",
       "      <th></th>\n",
       "      <th></th>\n",
       "    </tr>\n",
       "  </thead>\n",
       "  <tbody>\n",
       "    <tr>\n",
       "      <th rowspan=\"2\" valign=\"top\">Midwest</th>\n",
       "      <th>High Spender</th>\n",
       "      <td>38696995601</td>\n",
       "      <td>38696995601</td>\n",
       "      <td>2282048605</td>\n",
       "      <td>2282048605</td>\n",
       "      <td>407148</td>\n",
       "      <td>63767</td>\n",
       "      <td>306586</td>\n",
       "      <td>236328.0</td>\n",
       "      <td>575080903</td>\n",
       "      <td>115845</td>\n",
       "      <td>...</td>\n",
       "      <td>1603413</td>\n",
       "      <td>213277</td>\n",
       "      <td>2261342.1</td>\n",
       "      <td>407148</td>\n",
       "      <td>2261342.1</td>\n",
       "      <td>236328.0</td>\n",
       "      <td>1123575</td>\n",
       "      <td>33979</td>\n",
       "      <td>2170445809</td>\n",
       "      <td>407148</td>\n",
       "    </tr>\n",
       "    <tr>\n",
       "      <th>Low Spender</th>\n",
       "      <td>699802492306</td>\n",
       "      <td>699802492306</td>\n",
       "      <td>42068435190</td>\n",
       "      <td>42068435190</td>\n",
       "      <td>7512695</td>\n",
       "      <td>1117608</td>\n",
       "      <td>5479590</td>\n",
       "      <td>4537625.0</td>\n",
       "      <td>10451613536</td>\n",
       "      <td>3483370</td>\n",
       "      <td>...</td>\n",
       "      <td>29080237</td>\n",
       "      <td>4065562</td>\n",
       "      <td>3120147.3</td>\n",
       "      <td>7512695</td>\n",
       "      <td>3120147.3</td>\n",
       "      <td>4537625.0</td>\n",
       "      <td>20236780</td>\n",
       "      <td>616563</td>\n",
       "      <td>38764307560</td>\n",
       "      <td>7512695</td>\n",
       "    </tr>\n",
       "    <tr>\n",
       "      <th rowspan=\"2\" valign=\"top\">Northeast</th>\n",
       "      <th>High Spender</th>\n",
       "      <td>29357580492</td>\n",
       "      <td>29357580492</td>\n",
       "      <td>1761842195</td>\n",
       "      <td>1761842195</td>\n",
       "      <td>317659</td>\n",
       "      <td>47864</td>\n",
       "      <td>236343</td>\n",
       "      <td>180047.0</td>\n",
       "      <td>443176429</td>\n",
       "      <td>88999</td>\n",
       "      <td>...</td>\n",
       "      <td>1239122</td>\n",
       "      <td>164068</td>\n",
       "      <td>1493710.3</td>\n",
       "      <td>317659</td>\n",
       "      <td>1493710.3</td>\n",
       "      <td>180047.0</td>\n",
       "      <td>858322</td>\n",
       "      <td>25666</td>\n",
       "      <td>1666489034</td>\n",
       "      <td>317659</td>\n",
       "    </tr>\n",
       "    <tr>\n",
       "      <th>Low Spender</th>\n",
       "      <td>516998979768</td>\n",
       "      <td>516998979768</td>\n",
       "      <td>31333724923</td>\n",
       "      <td>31333724923</td>\n",
       "      <td>5568515</td>\n",
       "      <td>819630</td>\n",
       "      <td>4055811</td>\n",
       "      <td>3385554.0</td>\n",
       "      <td>7764776123</td>\n",
       "      <td>2576530</td>\n",
       "      <td>...</td>\n",
       "      <td>21579491</td>\n",
       "      <td>3017300</td>\n",
       "      <td>2307276.1</td>\n",
       "      <td>5568515</td>\n",
       "      <td>2307276.1</td>\n",
       "      <td>3385554.0</td>\n",
       "      <td>15004800</td>\n",
       "      <td>452369</td>\n",
       "      <td>28771898230</td>\n",
       "      <td>5568515</td>\n",
       "    </tr>\n",
       "    <tr>\n",
       "      <th rowspan=\"2\" valign=\"top\">South</th>\n",
       "      <th>High Spender</th>\n",
       "      <td>55474247802</td>\n",
       "      <td>55474247802</td>\n",
       "      <td>3306816195</td>\n",
       "      <td>3306816195</td>\n",
       "      <td>591043</td>\n",
       "      <td>89205</td>\n",
       "      <td>433152</td>\n",
       "      <td>337206.0</td>\n",
       "      <td>820273223</td>\n",
       "      <td>162419</td>\n",
       "      <td>...</td>\n",
       "      <td>2294381</td>\n",
       "      <td>304204</td>\n",
       "      <td>3152864.0</td>\n",
       "      <td>591043</td>\n",
       "      <td>3152864.0</td>\n",
       "      <td>337206.0</td>\n",
       "      <td>1591856</td>\n",
       "      <td>47775</td>\n",
       "      <td>3000989058</td>\n",
       "      <td>591043</td>\n",
       "    </tr>\n",
       "    <tr>\n",
       "      <th>Low Spender</th>\n",
       "      <td>988475772907</td>\n",
       "      <td>988475772907</td>\n",
       "      <td>59712232869</td>\n",
       "      <td>59712232869</td>\n",
       "      <td>10649091</td>\n",
       "      <td>1595100</td>\n",
       "      <td>7723759</td>\n",
       "      <td>6398631.0</td>\n",
       "      <td>14795554527</td>\n",
       "      <td>4937358</td>\n",
       "      <td>...</td>\n",
       "      <td>41111757</td>\n",
       "      <td>5758470</td>\n",
       "      <td>4403206.2</td>\n",
       "      <td>10649091</td>\n",
       "      <td>4403206.2</td>\n",
       "      <td>6398631.0</td>\n",
       "      <td>28572374</td>\n",
       "      <td>867742</td>\n",
       "      <td>54678999590</td>\n",
       "      <td>10649091</td>\n",
       "    </tr>\n",
       "    <tr>\n",
       "      <th rowspan=\"2\" valign=\"top\">West</th>\n",
       "      <th>High Spender</th>\n",
       "      <td>41546890596</td>\n",
       "      <td>41546890596</td>\n",
       "      <td>2522631739</td>\n",
       "      <td>2522631739</td>\n",
       "      <td>437728</td>\n",
       "      <td>67331</td>\n",
       "      <td>324653</td>\n",
       "      <td>262502.0</td>\n",
       "      <td>613802594</td>\n",
       "      <td>120889</td>\n",
       "      <td>...</td>\n",
       "      <td>1718852</td>\n",
       "      <td>228266</td>\n",
       "      <td>2208989.5</td>\n",
       "      <td>437728</td>\n",
       "      <td>2208989.5</td>\n",
       "      <td>262502.0</td>\n",
       "      <td>1185978</td>\n",
       "      <td>36444</td>\n",
       "      <td>2268317545</td>\n",
       "      <td>437728</td>\n",
       "    </tr>\n",
       "    <tr>\n",
       "      <th>Low Spender</th>\n",
       "      <td>757584292702</td>\n",
       "      <td>757584292702</td>\n",
       "      <td>45500507241</td>\n",
       "      <td>45500507241</td>\n",
       "      <td>8052078</td>\n",
       "      <td>1208435</td>\n",
       "      <td>5931027</td>\n",
       "      <td>4919932.0</td>\n",
       "      <td>11313577133</td>\n",
       "      <td>3797533</td>\n",
       "      <td>...</td>\n",
       "      <td>31454958</td>\n",
       "      <td>4387020</td>\n",
       "      <td>3373228.4</td>\n",
       "      <td>8052078</td>\n",
       "      <td>3373228.4</td>\n",
       "      <td>4919932.0</td>\n",
       "      <td>21924791</td>\n",
       "      <td>661198</td>\n",
       "      <td>41839285641</td>\n",
       "      <td>8052078</td>\n",
       "    </tr>\n",
       "  </tbody>\n",
       "</table>\n",
       "<p>8 rows × 22 columns</p>\n",
       "</div>"
      ],
      "text/plain": [
       "                         Unnamed: 0.1  Unnamed: 0_x     order_id      user_id  \\\n",
       "region    spending_flag                                                         \n",
       "Midwest   High Spender    38696995601   38696995601   2282048605   2282048605   \n",
       "          Low Spender    699802492306  699802492306  42068435190  42068435190   \n",
       "Northeast High Spender    29357580492   29357580492   1761842195   1761842195   \n",
       "          Low Spender    516998979768  516998979768  31333724923  31333724923   \n",
       "South     High Spender    55474247802   55474247802   3306816195   3306816195   \n",
       "          Low Spender    988475772907  988475772907  59712232869  59712232869   \n",
       "West      High Spender    41546890596   41546890596   2522631739   2522631739   \n",
       "          Low Spender    757584292702  757584292702  45500507241  45500507241   \n",
       "\n",
       "                         order_number  orders_day_of_week  order_hour_of_day  \\\n",
       "region    spending_flag                                                        \n",
       "Midwest   High Spender         407148               63767             306586   \n",
       "          Low Spender         7512695             1117608            5479590   \n",
       "Northeast High Spender         317659               47864             236343   \n",
       "          Low Spender         5568515              819630            4055811   \n",
       "South     High Spender         591043               89205             433152   \n",
       "          Low Spender        10649091             1595100            7723759   \n",
       "West      High Spender         437728               67331             324653   \n",
       "          Low Spender         8052078             1208435            5931027   \n",
       "\n",
       "                         days_since_prior_order   product_id  \\\n",
       "region    spending_flag                                        \n",
       "Midwest   High Spender                 236328.0    575080903   \n",
       "          Low Spender                 4537625.0  10451613536   \n",
       "Northeast High Spender                 180047.0    443176429   \n",
       "          Low Spender                 3385554.0   7764776123   \n",
       "South     High Spender                 337206.0    820273223   \n",
       "          Low Spender                 6398631.0  14795554527   \n",
       "West      High Spender                 262502.0    613802594   \n",
       "          Low Spender                 4919932.0  11313577133   \n",
       "\n",
       "                         add_to_cart_order  ...  aisle_id  department_id  \\\n",
       "region    spending_flag                     ...                            \n",
       "Midwest   High Spender              115845  ...   1603413         213277   \n",
       "          Low Spender              3483370  ...  29080237        4065562   \n",
       "Northeast High Spender               88999  ...   1239122         164068   \n",
       "          Low Spender              2576530  ...  21579491        3017300   \n",
       "South     High Spender              162419  ...   2294381         304204   \n",
       "          Low Spender              4937358  ...  41111757        5758470   \n",
       "West      High Spender              120889  ...   1718852         228266   \n",
       "          Low Spender              3797533  ...  31454958        4387020   \n",
       "\n",
       "                            prices  max_order  spend_habits  \\\n",
       "region    spending_flag                                       \n",
       "Midwest   High Spender   2261342.1     407148     2261342.1   \n",
       "          Low Spender    3120147.3    7512695     3120147.3   \n",
       "Northeast High Spender   1493710.3     317659     1493710.3   \n",
       "          Low Spender    2307276.1    5568515     2307276.1   \n",
       "South     High Spender   3152864.0     591043     3152864.0   \n",
       "          Low Spender    4403206.2   10649091     4403206.2   \n",
       "West      High Spender   2208989.5     437728     2208989.5   \n",
       "          Low Spender    3373228.4    8052078     3373228.4   \n",
       "\n",
       "                         ordering_behavior       age  no_of_dependents  \\\n",
       "region    spending_flag                                                  \n",
       "Midwest   High Spender            236328.0   1123575             33979   \n",
       "          Low Spender            4537625.0  20236780            616563   \n",
       "Northeast High Spender            180047.0    858322             25666   \n",
       "          Low Spender            3385554.0  15004800            452369   \n",
       "South     High Spender            337206.0   1591856             47775   \n",
       "          Low Spender            6398631.0  28572374            867742   \n",
       "West      High Spender            262502.0   1185978             36444   \n",
       "          Low Spender            4919932.0  21924791            661198   \n",
       "\n",
       "                              income  min_order  \n",
       "region    spending_flag                          \n",
       "Midwest   High Spender    2170445809     407148  \n",
       "          Low Spender    38764307560    7512695  \n",
       "Northeast High Spender    1666489034     317659  \n",
       "          Low Spender    28771898230    5568515  \n",
       "South     High Spender    3000989058     591043  \n",
       "          Low Spender    54678999590   10649091  \n",
       "West      High Spender    2268317545     437728  \n",
       "          Low Spender    41839285641    8052078  \n",
       "\n",
       "[8 rows x 22 columns]"
      ]
     },
     "execution_count": 116,
     "metadata": {},
     "output_type": "execute_result"
    }
   ],
   "source": [
    "df_merged.groupby(['region', 'spending_flag']).sum()"
   ]
  },
  {
   "cell_type": "code",
   "execution_count": 117,
   "id": "c77f6d8d",
   "metadata": {},
   "outputs": [],
   "source": [
    "regional_spending = df_merged.groupby(['region', 'spending_flag'])['spend_habits'].sum()"
   ]
  },
  {
   "cell_type": "code",
   "execution_count": 118,
   "id": "feced0a4",
   "metadata": {},
   "outputs": [
    {
     "data": {
      "text/plain": [
       "region     spending_flag\n",
       "Midwest    High Spender     2261342.1\n",
       "           Low Spender      3120147.3\n",
       "Northeast  High Spender     1493710.3\n",
       "           Low Spender      2307276.1\n",
       "South      High Spender     3152864.0\n",
       "           Low Spender      4403206.2\n",
       "West       High Spender     2208989.5\n",
       "           Low Spender      3373228.4\n",
       "Name: spend_habits, dtype: float64"
      ]
     },
     "execution_count": 118,
     "metadata": {},
     "output_type": "execute_result"
    }
   ],
   "source": [
    "df_merged.groupby(['region', 'spending_flag'])['spend_habits'].sum()"
   ]
  },
  {
   "cell_type": "code",
   "execution_count": null,
   "id": "f0096329",
   "metadata": {
    "scrolled": true
   },
   "outputs": [],
   "source": [
    "#Graph to show different spending habits between the US regions.\n",
    "regional_spend = sns.catplot(data=df_merged, kind = 'bar', x='region', y='spend_habits', hue = 'spending_flag')"
   ]
  },
  {
   "cell_type": "code",
   "execution_count": null,
   "id": "957b26d9",
   "metadata": {},
   "outputs": [],
   "source": [
    "#save graph\n",
    "regional_spend.figure.savefig(r'C:\\Users\\kelly\\OneDrive\\Desktop\\Instacart Project Folder\\Analysis\\Visualizations/regional_spend.png')"
   ]
  },
  {
   "cell_type": "code",
   "execution_count": null,
   "id": "54142795",
   "metadata": {},
   "outputs": [],
   "source": [
    "#Export data set with exclusion_flag \n",
    "df_merged.to_pickle(r'C:\\Users\\kelly\\OneDrive\\Desktop\\Prepared Data/exclusion_flag.pkl')"
   ]
  },
  {
   "cell_type": "code",
   "execution_count": null,
   "id": "6a48351f",
   "metadata": {},
   "outputs": [],
   "source": [
    "#Create a new data set by dropping the exclusion_flag\n",
    "df_merged_2 = df_merged.drop(columns = ['exclusion_flag'])"
   ]
  },
  {
   "cell_type": "code",
   "execution_count": null,
   "id": "35e55669",
   "metadata": {},
   "outputs": [],
   "source": [
    "df_merged_2.head()"
   ]
  },
  {
   "cell_type": "code",
   "execution_count": null,
   "id": "c8cddad4",
   "metadata": {},
   "outputs": [],
   "source": [
    "#Check new data set column names\n",
    "df_merged_2.columns"
   ]
  },
  {
   "cell_type": "markdown",
   "id": "32f57d2a",
   "metadata": {},
   "source": [
    "Are there certain types of products that are more popular than others? The marketing and sales teams want to know which departments have the highest frequency of product orders."
   ]
  },
  {
   "cell_type": "code",
   "execution_count": null,
   "id": "20319d21",
   "metadata": {},
   "outputs": [],
   "source": [
    "bar = df_merged_2['department_id'].value_counts().plot.bar().sort_index()\n"
   ]
  },
  {
   "cell_type": "code",
   "execution_count": null,
   "id": "2c3b9e43",
   "metadata": {},
   "outputs": [],
   "source": [
    "group = df_merged_2.groupby('age')"
   ]
  },
  {
   "cell_type": "code",
   "execution_count": null,
   "id": "d9ef291d",
   "metadata": {},
   "outputs": [],
   "source": [
    "group.head()"
   ]
  },
  {
   "cell_type": "code",
   "execution_count": null,
   "id": "c556042c",
   "metadata": {},
   "outputs": [],
   "source": [
    "df_merged_2['age_flag'].value_counts"
   ]
  },
  {
   "cell_type": "code",
   "execution_count": null,
   "id": "7ee52c46",
   "metadata": {},
   "outputs": [],
   "source": [
    "df_merged_2.groupby('age')"
   ]
  },
  {
   "cell_type": "code",
   "execution_count": null,
   "id": "63bb25be",
   "metadata": {},
   "outputs": [],
   "source": [
    "df_merged_2.groupby('age')['order_number'].sum"
   ]
  },
  {
   "cell_type": "code",
   "execution_count": null,
   "id": "912d0125",
   "metadata": {},
   "outputs": [],
   "source": [
    "df_merged_2.groupby('age').order_number.sum()"
   ]
  },
  {
   "cell_type": "code",
   "execution_count": null,
   "id": "20444480",
   "metadata": {},
   "outputs": [],
   "source": [
    "#Create an age_flag using loc\n",
    "df_merged_2['age_profile'] = df_merged_2.groupby(['age'])['order_number'].transform(np.sum)"
   ]
  },
  {
   "cell_type": "code",
   "execution_count": null,
   "id": "1bad3c75",
   "metadata": {
    "scrolled": true
   },
   "outputs": [],
   "source": [
    "df_merged_2.head()"
   ]
  },
  {
   "cell_type": "code",
   "execution_count": null,
   "id": "457513c2",
   "metadata": {},
   "outputs": [],
   "source": [
    "df_merged_2.loc[df_merged_2['age'] < 30, 'age_flag'] = 'Young'"
   ]
  },
  {
   "cell_type": "code",
   "execution_count": null,
   "id": "ecd09d64",
   "metadata": {},
   "outputs": [],
   "source": [
    "df_merged_2.loc[(df_merged_2['age'] >=30) & (df_merged_2['age'] <=65), 'age_flag'] = 'Middle Aged'"
   ]
  },
  {
   "cell_type": "code",
   "execution_count": null,
   "id": "f831aaaf",
   "metadata": {},
   "outputs": [],
   "source": [
    "df_merged_2.loc[df_merged_2['age']>65, 'age_flag'] = 'Older Aged'"
   ]
  },
  {
   "cell_type": "code",
   "execution_count": null,
   "id": "d6c83a42",
   "metadata": {},
   "outputs": [],
   "source": [
    "df_merged_2.head()"
   ]
  },
  {
   "cell_type": "code",
   "execution_count": null,
   "id": "a7d8998a",
   "metadata": {},
   "outputs": [],
   "source": [
    "df_merged_2['age_flag'].value_counts"
   ]
  },
  {
   "cell_type": "code",
   "execution_count": null,
   "id": "e57bb2e7",
   "metadata": {},
   "outputs": [],
   "source": [
    "#Create bar chart\n",
    "bar_age = df_merged_2['age_flag'].value_counts().plot.bar()"
   ]
  },
  {
   "cell_type": "code",
   "execution_count": null,
   "id": "10510e26",
   "metadata": {},
   "outputs": [],
   "source": [
    "#Save bar_age figure\n",
    "bar_age.figure.savefig(r'C:\\Users\\kelly\\OneDrive\\Desktop\\Instacart Project Folder\\Analysis\\Visualizations/age_distribution.png')"
   ]
  },
  {
   "cell_type": "code",
   "execution_count": null,
   "id": "d5523d21",
   "metadata": {},
   "outputs": [],
   "source": [
    "df_merged_2.groupby('income')"
   ]
  },
  {
   "cell_type": "code",
   "execution_count": null,
   "id": "230ba34e",
   "metadata": {},
   "outputs": [],
   "source": [
    "df_merged_2.groupby('income')['user_id'].sum"
   ]
  },
  {
   "cell_type": "code",
   "execution_count": null,
   "id": "a0fcaba8",
   "metadata": {},
   "outputs": [],
   "source": [
    "df_merged_2.groupby('income').user_id.sum()"
   ]
  },
  {
   "cell_type": "code",
   "execution_count": null,
   "id": "819efb7f",
   "metadata": {},
   "outputs": [],
   "source": [
    "#Create an income_profile using loc\n",
    "df_merged_2['income_profile'] = df_merged_2.groupby(['income'])['user_id'].transform(np.sum)"
   ]
  },
  {
   "cell_type": "code",
   "execution_count": null,
   "id": "c7fb777a",
   "metadata": {},
   "outputs": [],
   "source": [
    "df_merged_2.head()"
   ]
  },
  {
   "cell_type": "code",
   "execution_count": null,
   "id": "8b3899b9",
   "metadata": {},
   "outputs": [],
   "source": [
    "df_merged_2.loc[df_merged_2['income'] < 52520, 'income_profile'] = 'Low'"
   ]
  },
  {
   "cell_type": "code",
   "execution_count": null,
   "id": "785199d9",
   "metadata": {},
   "outputs": [],
   "source": [
    "df_merged_2.loc[(df_merged_2['income'] >=52520) & (df_merged_2['income'] <=156000), 'income_profile'] = 'Middle'"
   ]
  },
  {
   "cell_type": "code",
   "execution_count": null,
   "id": "14a40074",
   "metadata": {},
   "outputs": [],
   "source": [
    "df_merged_2.loc[df_merged_2['income']>156000, 'income_profile'] = 'High'"
   ]
  },
  {
   "cell_type": "code",
   "execution_count": null,
   "id": "cf134af5",
   "metadata": {},
   "outputs": [],
   "source": [
    "df_merged_2.head()"
   ]
  },
  {
   "cell_type": "code",
   "execution_count": null,
   "id": "9bbe545d",
   "metadata": {},
   "outputs": [],
   "source": [
    "df_merged_2['income_profile'].value_counts#Create bar chart\n",
    "bar_income = df_merged_2['income_profile'].value_counts().plot.bar()"
   ]
  },
  {
   "cell_type": "code",
   "execution_count": null,
   "id": "0184021c",
   "metadata": {},
   "outputs": [],
   "source": [
    "#Create bar chart\n",
    "bar_income = df_merged_2['income_profile'].value_counts().plot.bar()"
   ]
  },
  {
   "cell_type": "code",
   "execution_count": null,
   "id": "2ad28620",
   "metadata": {},
   "outputs": [],
   "source": [
    "#Save bar_age figure\n",
    "bar_income.figure.savefig(r'C:\\Users\\kelly\\OneDrive\\Desktop\\Instacart Project Folder\\Analysis\\Visualizations/income_distribution.png')"
   ]
  },
  {
   "cell_type": "code",
   "execution_count": 63,
   "id": "b2e584a1",
   "metadata": {},
   "outputs": [
    {
     "data": {
      "text/html": [
       "<div>\n",
       "<style scoped>\n",
       "    .dataframe tbody tr th:only-of-type {\n",
       "        vertical-align: middle;\n",
       "    }\n",
       "\n",
       "    .dataframe tbody tr th {\n",
       "        vertical-align: top;\n",
       "    }\n",
       "\n",
       "    .dataframe thead th {\n",
       "        text-align: right;\n",
       "    }\n",
       "</style>\n",
       "<table border=\"1\" class=\"dataframe\">\n",
       "  <thead>\n",
       "    <tr style=\"text-align: right;\">\n",
       "      <th></th>\n",
       "      <th>Unnamed: 0.1</th>\n",
       "      <th>Unnamed: 0_x</th>\n",
       "      <th>order_id</th>\n",
       "      <th>user_id</th>\n",
       "      <th>eval_set</th>\n",
       "      <th>order_number</th>\n",
       "      <th>orders_day_of_week</th>\n",
       "      <th>order_hour_of_day</th>\n",
       "      <th>days_since_prior_order</th>\n",
       "      <th>product_id</th>\n",
       "      <th>...</th>\n",
       "      <th>first_name</th>\n",
       "      <th>last_name</th>\n",
       "      <th>state</th>\n",
       "      <th>age</th>\n",
       "      <th>date_joined</th>\n",
       "      <th>no_of_dependents</th>\n",
       "      <th>marital_status</th>\n",
       "      <th>income</th>\n",
       "      <th>region</th>\n",
       "      <th>min_order</th>\n",
       "    </tr>\n",
       "  </thead>\n",
       "  <tbody>\n",
       "    <tr>\n",
       "      <th>0</th>\n",
       "      <td>769</td>\n",
       "      <td>769</td>\n",
       "      <td>180919</td>\n",
       "      <td>180919</td>\n",
       "      <td>prior</td>\n",
       "      <td>19</td>\n",
       "      <td>3</td>\n",
       "      <td>8</td>\n",
       "      <td>8.0</td>\n",
       "      <td>196</td>\n",
       "      <td>...</td>\n",
       "      <td>Jacqueline</td>\n",
       "      <td>Roach</td>\n",
       "      <td>Nebraska</td>\n",
       "      <td>21</td>\n",
       "      <td>1/1/2017</td>\n",
       "      <td>3</td>\n",
       "      <td>living with parents and siblings</td>\n",
       "      <td>56831</td>\n",
       "      <td>Midwest</td>\n",
       "      <td>19</td>\n",
       "    </tr>\n",
       "    <tr>\n",
       "      <th>1</th>\n",
       "      <td>769</td>\n",
       "      <td>769</td>\n",
       "      <td>180919</td>\n",
       "      <td>180919</td>\n",
       "      <td>prior</td>\n",
       "      <td>19</td>\n",
       "      <td>3</td>\n",
       "      <td>8</td>\n",
       "      <td>8.0</td>\n",
       "      <td>41787</td>\n",
       "      <td>...</td>\n",
       "      <td>Jacqueline</td>\n",
       "      <td>Roach</td>\n",
       "      <td>Nebraska</td>\n",
       "      <td>21</td>\n",
       "      <td>1/1/2017</td>\n",
       "      <td>3</td>\n",
       "      <td>living with parents and siblings</td>\n",
       "      <td>56831</td>\n",
       "      <td>Midwest</td>\n",
       "      <td>19</td>\n",
       "    </tr>\n",
       "    <tr>\n",
       "      <th>2</th>\n",
       "      <td>769</td>\n",
       "      <td>769</td>\n",
       "      <td>180919</td>\n",
       "      <td>180919</td>\n",
       "      <td>prior</td>\n",
       "      <td>19</td>\n",
       "      <td>3</td>\n",
       "      <td>8</td>\n",
       "      <td>8.0</td>\n",
       "      <td>46149</td>\n",
       "      <td>...</td>\n",
       "      <td>Jacqueline</td>\n",
       "      <td>Roach</td>\n",
       "      <td>Nebraska</td>\n",
       "      <td>21</td>\n",
       "      <td>1/1/2017</td>\n",
       "      <td>3</td>\n",
       "      <td>living with parents and siblings</td>\n",
       "      <td>56831</td>\n",
       "      <td>Midwest</td>\n",
       "      <td>19</td>\n",
       "    </tr>\n",
       "    <tr>\n",
       "      <th>3</th>\n",
       "      <td>769</td>\n",
       "      <td>769</td>\n",
       "      <td>180919</td>\n",
       "      <td>180919</td>\n",
       "      <td>prior</td>\n",
       "      <td>19</td>\n",
       "      <td>3</td>\n",
       "      <td>8</td>\n",
       "      <td>8.0</td>\n",
       "      <td>38928</td>\n",
       "      <td>...</td>\n",
       "      <td>Jacqueline</td>\n",
       "      <td>Roach</td>\n",
       "      <td>Nebraska</td>\n",
       "      <td>21</td>\n",
       "      <td>1/1/2017</td>\n",
       "      <td>3</td>\n",
       "      <td>living with parents and siblings</td>\n",
       "      <td>56831</td>\n",
       "      <td>Midwest</td>\n",
       "      <td>19</td>\n",
       "    </tr>\n",
       "    <tr>\n",
       "      <th>4</th>\n",
       "      <td>769</td>\n",
       "      <td>769</td>\n",
       "      <td>180919</td>\n",
       "      <td>180919</td>\n",
       "      <td>prior</td>\n",
       "      <td>19</td>\n",
       "      <td>3</td>\n",
       "      <td>8</td>\n",
       "      <td>8.0</td>\n",
       "      <td>10441</td>\n",
       "      <td>...</td>\n",
       "      <td>Jacqueline</td>\n",
       "      <td>Roach</td>\n",
       "      <td>Nebraska</td>\n",
       "      <td>21</td>\n",
       "      <td>1/1/2017</td>\n",
       "      <td>3</td>\n",
       "      <td>living with parents and siblings</td>\n",
       "      <td>56831</td>\n",
       "      <td>Midwest</td>\n",
       "      <td>19</td>\n",
       "    </tr>\n",
       "  </tbody>\n",
       "</table>\n",
       "<p>5 rows × 39 columns</p>\n",
       "</div>"
      ],
      "text/plain": [
       "   Unnamed: 0.1  Unnamed: 0_x  order_id  user_id eval_set  order_number  \\\n",
       "0           769           769    180919   180919    prior            19   \n",
       "1           769           769    180919   180919    prior            19   \n",
       "2           769           769    180919   180919    prior            19   \n",
       "3           769           769    180919   180919    prior            19   \n",
       "4           769           769    180919   180919    prior            19   \n",
       "\n",
       "   orders_day_of_week  order_hour_of_day  days_since_prior_order  product_id  \\\n",
       "0                   3                  8                     8.0         196   \n",
       "1                   3                  8                     8.0       41787   \n",
       "2                   3                  8                     8.0       46149   \n",
       "3                   3                  8                     8.0       38928   \n",
       "4                   3                  8                     8.0       10441   \n",
       "\n",
       "   ...  first_name  last_name     state  age date_joined  no_of_dependents  \\\n",
       "0  ...  Jacqueline      Roach  Nebraska   21    1/1/2017                 3   \n",
       "1  ...  Jacqueline      Roach  Nebraska   21    1/1/2017                 3   \n",
       "2  ...  Jacqueline      Roach  Nebraska   21    1/1/2017                 3   \n",
       "3  ...  Jacqueline      Roach  Nebraska   21    1/1/2017                 3   \n",
       "4  ...  Jacqueline      Roach  Nebraska   21    1/1/2017                 3   \n",
       "\n",
       "                     marital_status  income   region min_order  \n",
       "0  living with parents and siblings   56831  Midwest        19  \n",
       "1  living with parents and siblings   56831  Midwest        19  \n",
       "2  living with parents and siblings   56831  Midwest        19  \n",
       "3  living with parents and siblings   56831  Midwest        19  \n",
       "4  living with parents and siblings   56831  Midwest        19  \n",
       "\n",
       "[5 rows x 39 columns]"
      ]
     },
     "execution_count": 63,
     "metadata": {},
     "output_type": "execute_result"
    }
   ],
   "source": [
    "df_merged_2.head()"
   ]
  },
  {
   "cell_type": "code",
   "execution_count": 69,
   "id": "e4621bb6",
   "metadata": {},
   "outputs": [
    {
     "data": {
      "text/plain": [
       "<pandas.core.groupby.generic.DataFrameGroupBy object at 0x00000261308D0760>"
      ]
     },
     "execution_count": 69,
     "metadata": {},
     "output_type": "execute_result"
    }
   ],
   "source": [
    "df_merged_2.groupby('marital_status')"
   ]
  },
  {
   "cell_type": "code",
   "execution_count": 73,
   "id": "447e3a9d",
   "metadata": {},
   "outputs": [
    {
     "data": {
      "text/plain": [
       "<bound method GroupBy.sum of <pandas.core.groupby.generic.SeriesGroupBy object at 0x000002612EB4FA60>>"
      ]
     },
     "execution_count": 73,
     "metadata": {},
     "output_type": "execute_result"
    }
   ],
   "source": [
    "df_merged_2.groupby('marital_status')['no_of_dependents'].sum"
   ]
  },
  {
   "cell_type": "code",
   "execution_count": 74,
   "id": "fc393113",
   "metadata": {},
   "outputs": [
    {
     "data": {
      "text/plain": [
       "marital_status\n",
       "divorced/widowed                          0\n",
       "living with parents and siblings     171967\n",
       "married                             2569769\n",
       "single                                    0\n",
       "Name: no_of_dependents, dtype: int64"
      ]
     },
     "execution_count": 74,
     "metadata": {},
     "output_type": "execute_result"
    }
   ],
   "source": [
    "df_merged_2.groupby('marital_status').no_of_dependents.sum()"
   ]
  },
  {
   "cell_type": "code",
   "execution_count": 76,
   "id": "eac36a8d",
   "metadata": {},
   "outputs": [
    {
     "data": {
      "text/plain": [
       "marital_status\n",
       "divorced/widowed                          0\n",
       "living with parents and siblings     171967\n",
       "married                             2569769\n",
       "single                                    0\n",
       "Name: no_of_dependents, dtype: int64"
      ]
     },
     "execution_count": 76,
     "metadata": {},
     "output_type": "execute_result"
    }
   ],
   "source": [
    "df_merged_2.groupby('marital_status').no_of_dependents.sum()"
   ]
  },
  {
   "cell_type": "code",
   "execution_count": 77,
   "id": "89863501",
   "metadata": {},
   "outputs": [],
   "source": [
    "#Create an _profile using loc\n",
    "df_merged_2['dependants_profile'] = df_merged_2.groupby(['marital_status'])['no_of_dependents'].transform(np.sum)"
   ]
  },
  {
   "cell_type": "code",
   "execution_count": 78,
   "id": "1d12ae35",
   "metadata": {},
   "outputs": [
    {
     "data": {
      "text/html": [
       "<div>\n",
       "<style scoped>\n",
       "    .dataframe tbody tr th:only-of-type {\n",
       "        vertical-align: middle;\n",
       "    }\n",
       "\n",
       "    .dataframe tbody tr th {\n",
       "        vertical-align: top;\n",
       "    }\n",
       "\n",
       "    .dataframe thead th {\n",
       "        text-align: right;\n",
       "    }\n",
       "</style>\n",
       "<table border=\"1\" class=\"dataframe\">\n",
       "  <thead>\n",
       "    <tr style=\"text-align: right;\">\n",
       "      <th></th>\n",
       "      <th>Unnamed: 0.1</th>\n",
       "      <th>Unnamed: 0_x</th>\n",
       "      <th>order_id</th>\n",
       "      <th>user_id</th>\n",
       "      <th>eval_set</th>\n",
       "      <th>order_number</th>\n",
       "      <th>orders_day_of_week</th>\n",
       "      <th>order_hour_of_day</th>\n",
       "      <th>days_since_prior_order</th>\n",
       "      <th>product_id</th>\n",
       "      <th>...</th>\n",
       "      <th>last_name</th>\n",
       "      <th>state</th>\n",
       "      <th>age</th>\n",
       "      <th>date_joined</th>\n",
       "      <th>no_of_dependents</th>\n",
       "      <th>marital_status</th>\n",
       "      <th>income</th>\n",
       "      <th>region</th>\n",
       "      <th>min_order</th>\n",
       "      <th>dependants_profile</th>\n",
       "    </tr>\n",
       "  </thead>\n",
       "  <tbody>\n",
       "    <tr>\n",
       "      <th>0</th>\n",
       "      <td>769</td>\n",
       "      <td>769</td>\n",
       "      <td>180919</td>\n",
       "      <td>180919</td>\n",
       "      <td>prior</td>\n",
       "      <td>19</td>\n",
       "      <td>3</td>\n",
       "      <td>8</td>\n",
       "      <td>8.0</td>\n",
       "      <td>196</td>\n",
       "      <td>...</td>\n",
       "      <td>Roach</td>\n",
       "      <td>Nebraska</td>\n",
       "      <td>21</td>\n",
       "      <td>1/1/2017</td>\n",
       "      <td>3</td>\n",
       "      <td>living with parents and siblings</td>\n",
       "      <td>56831</td>\n",
       "      <td>Midwest</td>\n",
       "      <td>19</td>\n",
       "      <td>171967</td>\n",
       "    </tr>\n",
       "    <tr>\n",
       "      <th>1</th>\n",
       "      <td>769</td>\n",
       "      <td>769</td>\n",
       "      <td>180919</td>\n",
       "      <td>180919</td>\n",
       "      <td>prior</td>\n",
       "      <td>19</td>\n",
       "      <td>3</td>\n",
       "      <td>8</td>\n",
       "      <td>8.0</td>\n",
       "      <td>41787</td>\n",
       "      <td>...</td>\n",
       "      <td>Roach</td>\n",
       "      <td>Nebraska</td>\n",
       "      <td>21</td>\n",
       "      <td>1/1/2017</td>\n",
       "      <td>3</td>\n",
       "      <td>living with parents and siblings</td>\n",
       "      <td>56831</td>\n",
       "      <td>Midwest</td>\n",
       "      <td>19</td>\n",
       "      <td>171967</td>\n",
       "    </tr>\n",
       "    <tr>\n",
       "      <th>2</th>\n",
       "      <td>769</td>\n",
       "      <td>769</td>\n",
       "      <td>180919</td>\n",
       "      <td>180919</td>\n",
       "      <td>prior</td>\n",
       "      <td>19</td>\n",
       "      <td>3</td>\n",
       "      <td>8</td>\n",
       "      <td>8.0</td>\n",
       "      <td>46149</td>\n",
       "      <td>...</td>\n",
       "      <td>Roach</td>\n",
       "      <td>Nebraska</td>\n",
       "      <td>21</td>\n",
       "      <td>1/1/2017</td>\n",
       "      <td>3</td>\n",
       "      <td>living with parents and siblings</td>\n",
       "      <td>56831</td>\n",
       "      <td>Midwest</td>\n",
       "      <td>19</td>\n",
       "      <td>171967</td>\n",
       "    </tr>\n",
       "    <tr>\n",
       "      <th>3</th>\n",
       "      <td>769</td>\n",
       "      <td>769</td>\n",
       "      <td>180919</td>\n",
       "      <td>180919</td>\n",
       "      <td>prior</td>\n",
       "      <td>19</td>\n",
       "      <td>3</td>\n",
       "      <td>8</td>\n",
       "      <td>8.0</td>\n",
       "      <td>38928</td>\n",
       "      <td>...</td>\n",
       "      <td>Roach</td>\n",
       "      <td>Nebraska</td>\n",
       "      <td>21</td>\n",
       "      <td>1/1/2017</td>\n",
       "      <td>3</td>\n",
       "      <td>living with parents and siblings</td>\n",
       "      <td>56831</td>\n",
       "      <td>Midwest</td>\n",
       "      <td>19</td>\n",
       "      <td>171967</td>\n",
       "    </tr>\n",
       "    <tr>\n",
       "      <th>4</th>\n",
       "      <td>769</td>\n",
       "      <td>769</td>\n",
       "      <td>180919</td>\n",
       "      <td>180919</td>\n",
       "      <td>prior</td>\n",
       "      <td>19</td>\n",
       "      <td>3</td>\n",
       "      <td>8</td>\n",
       "      <td>8.0</td>\n",
       "      <td>10441</td>\n",
       "      <td>...</td>\n",
       "      <td>Roach</td>\n",
       "      <td>Nebraska</td>\n",
       "      <td>21</td>\n",
       "      <td>1/1/2017</td>\n",
       "      <td>3</td>\n",
       "      <td>living with parents and siblings</td>\n",
       "      <td>56831</td>\n",
       "      <td>Midwest</td>\n",
       "      <td>19</td>\n",
       "      <td>171967</td>\n",
       "    </tr>\n",
       "  </tbody>\n",
       "</table>\n",
       "<p>5 rows × 40 columns</p>\n",
       "</div>"
      ],
      "text/plain": [
       "   Unnamed: 0.1  Unnamed: 0_x  order_id  user_id eval_set  order_number  \\\n",
       "0           769           769    180919   180919    prior            19   \n",
       "1           769           769    180919   180919    prior            19   \n",
       "2           769           769    180919   180919    prior            19   \n",
       "3           769           769    180919   180919    prior            19   \n",
       "4           769           769    180919   180919    prior            19   \n",
       "\n",
       "   orders_day_of_week  order_hour_of_day  days_since_prior_order  product_id  \\\n",
       "0                   3                  8                     8.0         196   \n",
       "1                   3                  8                     8.0       41787   \n",
       "2                   3                  8                     8.0       46149   \n",
       "3                   3                  8                     8.0       38928   \n",
       "4                   3                  8                     8.0       10441   \n",
       "\n",
       "   ...  last_name     state age  date_joined no_of_dependents  \\\n",
       "0  ...      Roach  Nebraska  21     1/1/2017                3   \n",
       "1  ...      Roach  Nebraska  21     1/1/2017                3   \n",
       "2  ...      Roach  Nebraska  21     1/1/2017                3   \n",
       "3  ...      Roach  Nebraska  21     1/1/2017                3   \n",
       "4  ...      Roach  Nebraska  21     1/1/2017                3   \n",
       "\n",
       "                     marital_status  income   region min_order  \\\n",
       "0  living with parents and siblings   56831  Midwest        19   \n",
       "1  living with parents and siblings   56831  Midwest        19   \n",
       "2  living with parents and siblings   56831  Midwest        19   \n",
       "3  living with parents and siblings   56831  Midwest        19   \n",
       "4  living with parents and siblings   56831  Midwest        19   \n",
       "\n",
       "  dependants_profile  \n",
       "0             171967  \n",
       "1             171967  \n",
       "2             171967  \n",
       "3             171967  \n",
       "4             171967  \n",
       "\n",
       "[5 rows x 40 columns]"
      ]
     },
     "execution_count": 78,
     "metadata": {},
     "output_type": "execute_result"
    }
   ],
   "source": [
    "df_merged_2.head()"
   ]
  },
  {
   "cell_type": "code",
   "execution_count": 81,
   "id": "7071c143",
   "metadata": {},
   "outputs": [],
   "source": [
    "df_merged_2.loc[df_merged_2['no_of_dependents'] >=1, 'dependent_profile'] = 'Dependents'"
   ]
  },
  {
   "cell_type": "code",
   "execution_count": 83,
   "id": "03683bf9",
   "metadata": {},
   "outputs": [],
   "source": [
    "df_merged_2.loc[df_merged_2['no_of_dependents'] <1, 'dependent_profile'] = 'No Dependents'"
   ]
  },
  {
   "cell_type": "code",
   "execution_count": 84,
   "id": "ffc73c41",
   "metadata": {},
   "outputs": [
    {
     "data": {
      "text/html": [
       "<div>\n",
       "<style scoped>\n",
       "    .dataframe tbody tr th:only-of-type {\n",
       "        vertical-align: middle;\n",
       "    }\n",
       "\n",
       "    .dataframe tbody tr th {\n",
       "        vertical-align: top;\n",
       "    }\n",
       "\n",
       "    .dataframe thead th {\n",
       "        text-align: right;\n",
       "    }\n",
       "</style>\n",
       "<table border=\"1\" class=\"dataframe\">\n",
       "  <thead>\n",
       "    <tr style=\"text-align: right;\">\n",
       "      <th></th>\n",
       "      <th>Unnamed: 0.1</th>\n",
       "      <th>Unnamed: 0_x</th>\n",
       "      <th>order_id</th>\n",
       "      <th>user_id</th>\n",
       "      <th>eval_set</th>\n",
       "      <th>order_number</th>\n",
       "      <th>orders_day_of_week</th>\n",
       "      <th>order_hour_of_day</th>\n",
       "      <th>days_since_prior_order</th>\n",
       "      <th>product_id</th>\n",
       "      <th>...</th>\n",
       "      <th>state</th>\n",
       "      <th>age</th>\n",
       "      <th>date_joined</th>\n",
       "      <th>no_of_dependents</th>\n",
       "      <th>marital_status</th>\n",
       "      <th>income</th>\n",
       "      <th>region</th>\n",
       "      <th>min_order</th>\n",
       "      <th>dependants_profile</th>\n",
       "      <th>dependent_profile</th>\n",
       "    </tr>\n",
       "  </thead>\n",
       "  <tbody>\n",
       "    <tr>\n",
       "      <th>0</th>\n",
       "      <td>769</td>\n",
       "      <td>769</td>\n",
       "      <td>180919</td>\n",
       "      <td>180919</td>\n",
       "      <td>prior</td>\n",
       "      <td>19</td>\n",
       "      <td>3</td>\n",
       "      <td>8</td>\n",
       "      <td>8.0</td>\n",
       "      <td>196</td>\n",
       "      <td>...</td>\n",
       "      <td>Nebraska</td>\n",
       "      <td>21</td>\n",
       "      <td>1/1/2017</td>\n",
       "      <td>3</td>\n",
       "      <td>living with parents and siblings</td>\n",
       "      <td>56831</td>\n",
       "      <td>Midwest</td>\n",
       "      <td>19</td>\n",
       "      <td>171967</td>\n",
       "      <td>Dependents</td>\n",
       "    </tr>\n",
       "    <tr>\n",
       "      <th>1</th>\n",
       "      <td>769</td>\n",
       "      <td>769</td>\n",
       "      <td>180919</td>\n",
       "      <td>180919</td>\n",
       "      <td>prior</td>\n",
       "      <td>19</td>\n",
       "      <td>3</td>\n",
       "      <td>8</td>\n",
       "      <td>8.0</td>\n",
       "      <td>41787</td>\n",
       "      <td>...</td>\n",
       "      <td>Nebraska</td>\n",
       "      <td>21</td>\n",
       "      <td>1/1/2017</td>\n",
       "      <td>3</td>\n",
       "      <td>living with parents and siblings</td>\n",
       "      <td>56831</td>\n",
       "      <td>Midwest</td>\n",
       "      <td>19</td>\n",
       "      <td>171967</td>\n",
       "      <td>Dependents</td>\n",
       "    </tr>\n",
       "    <tr>\n",
       "      <th>2</th>\n",
       "      <td>769</td>\n",
       "      <td>769</td>\n",
       "      <td>180919</td>\n",
       "      <td>180919</td>\n",
       "      <td>prior</td>\n",
       "      <td>19</td>\n",
       "      <td>3</td>\n",
       "      <td>8</td>\n",
       "      <td>8.0</td>\n",
       "      <td>46149</td>\n",
       "      <td>...</td>\n",
       "      <td>Nebraska</td>\n",
       "      <td>21</td>\n",
       "      <td>1/1/2017</td>\n",
       "      <td>3</td>\n",
       "      <td>living with parents and siblings</td>\n",
       "      <td>56831</td>\n",
       "      <td>Midwest</td>\n",
       "      <td>19</td>\n",
       "      <td>171967</td>\n",
       "      <td>Dependents</td>\n",
       "    </tr>\n",
       "    <tr>\n",
       "      <th>3</th>\n",
       "      <td>769</td>\n",
       "      <td>769</td>\n",
       "      <td>180919</td>\n",
       "      <td>180919</td>\n",
       "      <td>prior</td>\n",
       "      <td>19</td>\n",
       "      <td>3</td>\n",
       "      <td>8</td>\n",
       "      <td>8.0</td>\n",
       "      <td>38928</td>\n",
       "      <td>...</td>\n",
       "      <td>Nebraska</td>\n",
       "      <td>21</td>\n",
       "      <td>1/1/2017</td>\n",
       "      <td>3</td>\n",
       "      <td>living with parents and siblings</td>\n",
       "      <td>56831</td>\n",
       "      <td>Midwest</td>\n",
       "      <td>19</td>\n",
       "      <td>171967</td>\n",
       "      <td>Dependents</td>\n",
       "    </tr>\n",
       "    <tr>\n",
       "      <th>4</th>\n",
       "      <td>769</td>\n",
       "      <td>769</td>\n",
       "      <td>180919</td>\n",
       "      <td>180919</td>\n",
       "      <td>prior</td>\n",
       "      <td>19</td>\n",
       "      <td>3</td>\n",
       "      <td>8</td>\n",
       "      <td>8.0</td>\n",
       "      <td>10441</td>\n",
       "      <td>...</td>\n",
       "      <td>Nebraska</td>\n",
       "      <td>21</td>\n",
       "      <td>1/1/2017</td>\n",
       "      <td>3</td>\n",
       "      <td>living with parents and siblings</td>\n",
       "      <td>56831</td>\n",
       "      <td>Midwest</td>\n",
       "      <td>19</td>\n",
       "      <td>171967</td>\n",
       "      <td>Dependents</td>\n",
       "    </tr>\n",
       "  </tbody>\n",
       "</table>\n",
       "<p>5 rows × 41 columns</p>\n",
       "</div>"
      ],
      "text/plain": [
       "   Unnamed: 0.1  Unnamed: 0_x  order_id  user_id eval_set  order_number  \\\n",
       "0           769           769    180919   180919    prior            19   \n",
       "1           769           769    180919   180919    prior            19   \n",
       "2           769           769    180919   180919    prior            19   \n",
       "3           769           769    180919   180919    prior            19   \n",
       "4           769           769    180919   180919    prior            19   \n",
       "\n",
       "   orders_day_of_week  order_hour_of_day  days_since_prior_order  product_id  \\\n",
       "0                   3                  8                     8.0         196   \n",
       "1                   3                  8                     8.0       41787   \n",
       "2                   3                  8                     8.0       46149   \n",
       "3                   3                  8                     8.0       38928   \n",
       "4                   3                  8                     8.0       10441   \n",
       "\n",
       "   ...     state  age date_joined  no_of_dependents  \\\n",
       "0  ...  Nebraska   21    1/1/2017                 3   \n",
       "1  ...  Nebraska   21    1/1/2017                 3   \n",
       "2  ...  Nebraska   21    1/1/2017                 3   \n",
       "3  ...  Nebraska   21    1/1/2017                 3   \n",
       "4  ...  Nebraska   21    1/1/2017                 3   \n",
       "\n",
       "                     marital_status  income   region  min_order  \\\n",
       "0  living with parents and siblings   56831  Midwest         19   \n",
       "1  living with parents and siblings   56831  Midwest         19   \n",
       "2  living with parents and siblings   56831  Midwest         19   \n",
       "3  living with parents and siblings   56831  Midwest         19   \n",
       "4  living with parents and siblings   56831  Midwest         19   \n",
       "\n",
       "  dependants_profile dependent_profile  \n",
       "0             171967        Dependents  \n",
       "1             171967        Dependents  \n",
       "2             171967        Dependents  \n",
       "3             171967        Dependents  \n",
       "4             171967        Dependents  \n",
       "\n",
       "[5 rows x 41 columns]"
      ]
     },
     "execution_count": 84,
     "metadata": {},
     "output_type": "execute_result"
    }
   ],
   "source": [
    "df_merged_2.head()"
   ]
  },
  {
   "cell_type": "code",
   "execution_count": 86,
   "id": "a7e69378",
   "metadata": {},
   "outputs": [
    {
     "data": {
      "text/plain": [
       "<bound method IndexOpsMixin.value_counts of 0             Dependents\n",
       "1             Dependents\n",
       "2             Dependents\n",
       "3             Dependents\n",
       "4             Dependents\n",
       "               ...      \n",
       "1827797    No Dependents\n",
       "1827798       Dependents\n",
       "1827799       Dependents\n",
       "1827800       Dependents\n",
       "1827801       Dependents\n",
       "Name: dependent_profile, Length: 1827802, dtype: object>"
      ]
     },
     "execution_count": 86,
     "metadata": {},
     "output_type": "execute_result"
    }
   ],
   "source": [
    "df_merged_2['dependent_profile'].value_counts"
   ]
  },
  {
   "cell_type": "code",
   "execution_count": 87,
   "id": "a38d0d02",
   "metadata": {},
   "outputs": [
    {
     "data": {
      "image/png": "[encoded data removed]",
      "text/plain": [
       "<Figure size 473.25x360 with 1 Axes>"
      ]
     },
     "metadata": {
      "needs_background": "light"
     },
     "output_type": "display_data"
    }
   ],
   "source": [
    "#Create bar chart\n",
    "dependent_spend = sns.catplot(data=df_merged_2, kind = 'bar', x='marital_status', y='user_id', hue = 'dependent_profile')"
   ]
  },
  {
   "cell_type": "code",
   "execution_count": 89,
   "id": "31d7f3ec",
   "metadata": {},
   "outputs": [],
   "source": [
    "#Save bar_dependents figure\n",
    "dependent_spend.figure.savefig(r'C:\\Users\\kelly\\OneDrive\\Desktop\\Instacart Project Folder\\Analysis\\Visualizations/dependent_distribution.png')"
   ]
  },
  {
   "cell_type": "code",
   "execution_count": 90,
   "id": "c6071223",
   "metadata": {},
   "outputs": [
    {
     "data": {
      "text/plain": [
       "<pandas.core.groupby.generic.DataFrameGroupBy object at 0x000002612EB622B0>"
      ]
     },
     "execution_count": 90,
     "metadata": {},
     "output_type": "execute_result"
    }
   ],
   "source": [
    "df_merged_2.groupby('department_id')"
   ]
  },
  {
   "cell_type": "code",
   "execution_count": 92,
   "id": "c6984e56",
   "metadata": {},
   "outputs": [
    {
     "data": {
      "text/plain": [
       "Index(['Unnamed: 0.1', 'Unnamed: 0_x', 'order_id', 'user_id', 'eval_set',\n",
       "       'order_number', 'orders_day_of_week', 'order_hour_of_day',\n",
       "       'days_since_prior_order', 'product_id', 'add_to_cart_order',\n",
       "       'reordered', '_merge', 'Unnamed: 0_y', 'product_name', 'aisle_id',\n",
       "       'department_id', 'prices', 'price_range_loc', 'busiest_day',\n",
       "       'busiest days', 'busiest_days', 'busiest_period_of_day', 'max_order',\n",
       "       'loyalty_flag', 'spend_habits', 'spending_flag', 'ordering_behavior',\n",
       "       'order_frequency_flag', 'first_name', 'last_name', 'state', 'age',\n",
       "       'date_joined', 'no_of_dependents', 'marital_status', 'income', 'region',\n",
       "       'min_order', 'dependants_profile', 'dependent_profile'],\n",
       "      dtype='object')"
      ]
     },
     "execution_count": 92,
     "metadata": {},
     "output_type": "execute_result"
    }
   ],
   "source": [
    "df_merged_2.columns"
   ]
  },
  {
   "cell_type": "code",
   "execution_count": 124,
   "id": "f7eb686f",
   "metadata": {},
   "outputs": [
    {
     "data": {
      "text/plain": [
       "<pandas.core.groupby.generic.DataFrameGroupBy object at 0x000002615A2DCCA0>"
      ]
     },
     "execution_count": 124,
     "metadata": {},
     "output_type": "execute_result"
    }
   ],
   "source": [
    "df_merged_2.groupby('age')"
   ]
  },
  {
   "cell_type": "code",
   "execution_count": 125,
   "id": "96fe6f2f",
   "metadata": {},
   "outputs": [
    {
     "data": {
      "text/plain": [
       "<bound method GroupBy.sum of <pandas.core.groupby.generic.SeriesGroupBy object at 0x000002615A809490>>"
      ]
     },
     "execution_count": 125,
     "metadata": {},
     "output_type": "execute_result"
    }
   ],
   "source": [
    "df_merged_2.groupby('age')['order_number'].sum"
   ]
  },
  {
   "cell_type": "code",
   "execution_count": 126,
   "id": "e6562555",
   "metadata": {},
   "outputs": [
    {
     "data": {
      "text/plain": [
       "age\n",
       "18    546262\n",
       "19    557574\n",
       "20    520966\n",
       "21    517403\n",
       "22    503698\n",
       "       ...  \n",
       "77    554432\n",
       "78    501489\n",
       "79    531552\n",
       "80    522512\n",
       "81    526148\n",
       "Name: order_number, Length: 64, dtype: int64"
      ]
     },
     "execution_count": 126,
     "metadata": {},
     "output_type": "execute_result"
    }
   ],
   "source": [
    "df_merged_2.groupby('age').order_number.sum()"
   ]
  },
  {
   "cell_type": "code",
   "execution_count": 127,
   "id": "7cff8203",
   "metadata": {},
   "outputs": [],
   "source": [
    "#Create an age_flag using loc\n",
    "df_merged_2['age_profile'] = df_merged_2.groupby(['age'])['order_number'].transform(np.sum)"
   ]
  },
  {
   "cell_type": "code",
   "execution_count": 128,
   "id": "249f59f4",
   "metadata": {},
   "outputs": [],
   "source": [
    "df_merged_2.loc[df_merged_2['age'] < 30, 'age_flag'] = 'Young'"
   ]
  },
  {
   "cell_type": "code",
   "execution_count": 129,
   "id": "12a0d1ec",
   "metadata": {},
   "outputs": [],
   "source": [
    "df_merged_2.loc[(df_merged_2['age'] >=30) & (df_merged_2['age'] <=65), 'age_flag'] = 'Middle Aged'"
   ]
  },
  {
   "cell_type": "code",
   "execution_count": 130,
   "id": "34e3feb3",
   "metadata": {},
   "outputs": [],
   "source": [
    "df_merged_2.loc[df_merged_2['age']>65, 'age_flag'] = 'Older Aged'"
   ]
  },
  {
   "cell_type": "code",
   "execution_count": 131,
   "id": "f1f7ea31",
   "metadata": {},
   "outputs": [
    {
     "data": {
      "text/plain": [
       "<bound method IndexOpsMixin.value_counts of 0                Young\n",
       "1                Young\n",
       "2                Young\n",
       "3                Young\n",
       "4                Young\n",
       "              ...     \n",
       "1827797     Older Aged\n",
       "1827798    Middle Aged\n",
       "1827799    Middle Aged\n",
       "1827800    Middle Aged\n",
       "1827801    Middle Aged\n",
       "Name: age_flag, Length: 1827802, dtype: object>"
      ]
     },
     "execution_count": 131,
     "metadata": {},
     "output_type": "execute_result"
    }
   ],
   "source": [
    "df_merged_2['age_flag'].value_counts"
   ]
  },
  {
   "cell_type": "code",
   "execution_count": 132,
   "id": "93fbdcc0",
   "metadata": {},
   "outputs": [
    {
     "data": {
      "text/plain": [
       "<pandas.core.groupby.generic.DataFrameGroupBy object at 0x00000261E9DF2A00>"
      ]
     },
     "execution_count": 132,
     "metadata": {},
     "output_type": "execute_result"
    }
   ],
   "source": [
    "df_merged_2.groupby('department_id')"
   ]
  },
  {
   "cell_type": "code",
   "execution_count": null,
   "id": "6accdce1",
   "metadata": {},
   "outputs": [],
   "source": [
    "df_merged_2.to_pickle(r'C:\\Users\\kelly\\OneDrive\\Desktop\\Prepared Data)"
   ]
  }
 ],
 "metadata": {
  "kernelspec": {
   "display_name": "Python 3 (ipykernel)",
   "language": "python",
   "name": "python3"
  },
  "language_info": {
   "codemirror_mode": {
    "name": "ipython",
    "version": 3
   },
   "file_extension": ".py",
   "mimetype": "text/x-python",
   "name": "python",
   "nbconvert_exporter": "python",
   "pygments_lexer": "ipython3",
   "version": "3.9.12"
  }
 },
 "nbformat": 4,
 "nbformat_minor": 5
}
